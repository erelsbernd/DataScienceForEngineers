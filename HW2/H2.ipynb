{
 "cells": [
  {
   "cell_type": "markdown",
   "metadata": {},
   "source": [
    "### 1.) (5 points) Recall that a function of the form  $$f(x) = g(⟨w, x⟩ + b),$$ where g is a function that maps real numbers to class labels is called a linear threshold function (LTF). LTFs can be used to express a wide range of functions, some that are un- expected. For example, if the features of the data vector x are binary (0/1), the function $$f(x) = x_1 OR x_2 OR ...OR x_d$$ can be represented as an LTF:  $$f(x)=Heaviside(x_1 +x_2 +...+x_d −1).$$ Derive LTF representations of the following functions. Assume that data is represented by binary d-dimensional vectors, $x ∈ {0, 1}d$.  \n",
    "> a. f(x) is a conjunction (AND) of the subset of features indexed by $i_1,...,i_k.$  \n",
    "> b. $f(x) = MajorityBit(x).$  "
   ]
  },
  {
   "cell_type": "markdown",
   "metadata": {
    "collapsed": true
   },
   "source": [
    "a. $f(x) = Heaviside(x_1+x_2+x_3+...+x_d - k -1)$"
   ]
  },
  {
   "cell_type": "markdown",
   "metadata": {
    "collapsed": true
   },
   "source": [
    "b. $f(x) = Heaviside(x_1+x_2+...+x_d - d/2)$ if the sum is greater than or equal to d/2 than we know the majority bit is 1, and if it isn't the majority bit is 0."
   ]
  },
  {
   "cell_type": "markdown",
   "metadata": {},
   "source": [
    "### 2.) (10points)In class,we discussed how to represent XOR-like functions using quadratic features, since standard perceptrons are insufficient for this task. However, here we show that XOR-type functions can indeed be simulated using multi-layer networks of perceptrons. This example shows a glimpse of the expressive power of “deep neural networks”: merely increasing the depth from 1 to 2 layers can help reproduce highly nonlinear decision boundaries.  \n",
    "> a. Consider a standard two-bit XOR function,where we have 2-dimensional inputs $x_1,x_2 = ±1$ and output $y = x1(XOR)x2 = −1 if x1=x2,$or $1$ otherwise.  \n",
    "Geometrically argue why a single perceptron cannot be used to simulate the above function.    \n",
    "> b. Graphically depict, and write down the equation for, the optimal decision region for the following logical functions:       \n",
    "(i)x1(AND)(NOT(x2))    \n",
    "(ii) (NOT(x1))(AND)x2   \n",
    "(iii) x1(OR)x2   \n",
    "Make note of the weights learned corresponding to the optimal decision boundary for each function.      \n",
    "c. Using the above information, simulate a multi-layer perceptron network for the XOR operation with the learned weights from Part (b).  "
   ]
  },
  {
   "cell_type": "markdown",
   "metadata": {},
   "source": [
    "a. If we plot the truth table for the xor function we get something that looks like the graph below. There is no linear function that can draw a separating line between these points. We would need to use a quadratic function and therefore a single perceptron will not suffice."
   ]
  },
  {
   "cell_type": "code",
   "execution_count": 1,
   "metadata": {},
   "outputs": [
    {
     "data": {
      "image/png": "[encoded data removed]",
      "text/plain": [
       "<matplotlib.figure.Figure at 0x10dc01cc0>"
      ]
     },
     "metadata": {},
     "output_type": "display_data"
    }
   ],
   "source": [
    "import matplotlib.pyplot as plt\n",
    "from mpl_toolkits.mplot3d import Axes3D\n",
    "plt.plot([1,-1], [1, -1], 'bo', [1,-1,],[-1, 1], 'ro')\n",
    "plt.show()"
   ]
  },
  {
   "cell_type": "code",
   "execution_count": 2,
   "metadata": {
    "collapsed": true
   },
   "outputs": [],
   "source": [
    "from numpy import ones,vstack\n",
    "from numpy.linalg import lstsq\n",
    "def find_line(xs, ys):\n",
    "    points = [xs,ys]\n",
    "    x_coords, y_coords = zip(*points)\n",
    "    A = vstack([x_coords,ones(len(x_coords))]).T\n",
    "    m, c = lstsq(A, y_coords)[0]\n",
    "    print(\"Line Solution is y = {m}x + {c}\".format(m=m,c=c))"
   ]
  },
  {
   "cell_type": "markdown",
   "metadata": {},
   "source": [
    "#### b. Graphically depict, and write down the equation for, the optimal decision region for the following logical functions:  \n",
    "#### (i)x1(AND)(NOT(x2))  \n",
    "Note: My work for solving the weights, are included as images at the bottom of the notebook.  \n",
    "We can find the equation of the line by finding the midpoints between (1,1) and (1,-1) which is (1,0), and the midpoints between (-1,-1) and (1,-1) which is (0,-1). We can calculate the equation of the line between these two points as y = 1x -1. \n",
    "If we want to find the specific weights of the values that will give us the classific the points we can solve a system of equations to get $label = 1*w_1 + -1*w_2 -1$, if label is greater than 0 we label the point 1, and -1 otherwise.  \n",
    "x1   x2   x1 and notx2  \n",
    "1       1    -1   \n",
    "1       -1   1    \n",
    "-1      1    -1    \n",
    "-1      -1   -1    "
   ]
  },
  {
   "cell_type": "code",
   "execution_count": 3,
   "metadata": {},
   "outputs": [
    {
     "name": "stdout",
     "output_type": "stream",
     "text": [
      "Line Solution is y = 1.0000000000000002x + -1.0\n"
     ]
    }
   ],
   "source": [
    "find_line((1,0),(0,-1))"
   ]
  },
  {
   "cell_type": "code",
   "execution_count": 4,
   "metadata": {},
   "outputs": [
    {
     "data": {
      "text/plain": [
       "[<matplotlib.lines.Line2D at 0x11001dcc0>]"
      ]
     },
     "execution_count": 4,
     "metadata": {},
     "output_type": "execute_result"
    },
    {
     "data": {
      "image/png": "[encoded data removed]",
      "text/plain": [
       "<matplotlib.figure.Figure at 0x10fe41978>"
      ]
     },
     "metadata": {},
     "output_type": "display_data"
    }
   ],
   "source": [
    "import numpy as np\n",
    "import matplotlib.pyplot as plt\n",
    "%matplotlib inline\n",
    "\n",
    "x1 = np.array([1,-1,-1,1])\n",
    "x2 = np.array([1,-1,1,-1])\n",
    "c = np.array([-1,-1,-1,1])\n",
    "\n",
    "fig = plt.figure(figsize=(8,7))\n",
    "ax = fig.add_subplot(111)\n",
    "\n",
    "# plot the equation of the line between  (-1,-1),(1,1) and (1,-1)\n",
    "x_vals = np.linspace(0, 1 ,num=5)\n",
    "y_vals = np.linspace(-1,0,num=5)\n",
    "\n",
    "# plot x1,x2 data with c as the color vector, set the line width of the markers to 0\n",
    "ax.scatter(x1, x2, c=c, lw=0);\n",
    "ax.plot(x_vals,y_vals,'-')"
   ]
  },
  {
   "cell_type": "markdown",
   "metadata": {},
   "source": [
    "#### (ii) (NOT(x1))(AND)x2    \n",
    "We can find the equation of the line by finding the midpoints between (1,1) and (-1,1) which is (0,1), and the midpoints between (-1,-1) and (-1,1) which is (-1,0). We can calculate the equation of the line between these two points as y = 1x + 1. This classify points to the right of the line as -1, and to the left as +1. \n",
    "If we want to find the specific weights of the values  we can solve a system of equations to get $label = -1*w_1 + 1*w_2 -1$, if label is greater than 0 we label the point 1, and -1 otherwise.\n",
    " \n",
    "x1   x2   notx1 and x2  \n",
    "1       1    -1   \n",
    "1       -1   -1    \n",
    "-1      1     1    \n",
    "-1      -1   -1    "
   ]
  },
  {
   "cell_type": "code",
   "execution_count": 5,
   "metadata": {},
   "outputs": [
    {
     "name": "stdout",
     "output_type": "stream",
     "text": [
      "Line Solution is y = 1.0000000000000002x + 1.0\n"
     ]
    }
   ],
   "source": [
    "find_line((-1,0),(0,1))"
   ]
  },
  {
   "cell_type": "code",
   "execution_count": 6,
   "metadata": {},
   "outputs": [
    {
     "data": {
      "text/plain": [
       "[<matplotlib.lines.Line2D at 0x1188ff9e8>]"
      ]
     },
     "execution_count": 6,
     "metadata": {},
     "output_type": "execute_result"
    },
    {
     "data": {
      "image/png": "[encoded data removed]",
      "text/plain": [
       "<matplotlib.figure.Figure at 0x1100122e8>"
      ]
     },
     "metadata": {},
     "output_type": "display_data"
    }
   ],
   "source": [
    "x1 = np.array([1,1,-1,-1])\n",
    "x2 = np.array([1,-1,1,-1])\n",
    "c = np.array([-1,-1,1,-1])\n",
    "\n",
    "fig = plt.figure(figsize=(8,7))\n",
    "ax = fig.add_subplot(111)\n",
    "\n",
    "# plot the equation of the line between  (-1,-1),(1,1) and (1,-1)\n",
    "x_vals = np.linspace(-1,0,num=5)\n",
    "y_vals = np.linspace(0,1,num=5)\n",
    "\n",
    "# plot x1,x2 data with c as the color vector, set the line width of the markers to 0\n",
    "ax.scatter(x1, x2, c=c, lw=0);\n",
    "ax.plot(x_vals,y_vals,'-')"
   ]
  },
  {
   "cell_type": "markdown",
   "metadata": {
    "collapsed": true
   },
   "source": [
    "#### iii) x1(OR)x2      \n",
    "We can find the equation of the line by finding the midpoints between (-1,-1) and (1,-1) which is (0,-1), and the midpoints between (-1,-1) and (-1,1) which is (-1,0). We can calculate the equation of the line between these two points as y = -1x - 1. This classify points to the right of the line as -1, and to the left as +1. \n",
    "If we want to find the specific weights of the values  we can solve a system of equations to get $label = 1*w_1 + 1*w_2 +1$, if label is greater than 0 we label the point 1, and -1 otherwise.       \n",
    "   \n",
    "x1   x2   x1 or x2    \n",
    "1       1    1     \n",
    "1       -1   1      \n",
    "-1      1    1      \n",
    "-1      -1   -1    "
   ]
  },
  {
   "cell_type": "code",
   "execution_count": 7,
   "metadata": {},
   "outputs": [
    {
     "name": "stdout",
     "output_type": "stream",
     "text": [
      "Line Solution is y = -1.0000000000000002x + -1.0\n"
     ]
    }
   ],
   "source": [
    "find_line((-1,0),(0,-1))"
   ]
  },
  {
   "cell_type": "code",
   "execution_count": 8,
   "metadata": {},
   "outputs": [
    {
     "data": {
      "text/plain": [
       "[<matplotlib.lines.Line2D at 0x118a3e630>]"
      ]
     },
     "execution_count": 8,
     "metadata": {},
     "output_type": "execute_result"
    },
    {
     "data": {
      "image/png": "[encoded data removed]",
      "text/plain": [
       "<matplotlib.figure.Figure at 0x118923748>"
      ]
     },
     "metadata": {},
     "output_type": "display_data"
    }
   ],
   "source": [
    "x1 = np.array([1,1,-1,-1])\n",
    "x2 = np.array([1,-1,1,-1])\n",
    "c = np.array([1,1,1,-1])\n",
    "\n",
    "fig = plt.figure(figsize=(8,7))\n",
    "ax = fig.add_subplot(111)\n",
    "\n",
    "# plot the equation of the line between  (-1,-1),(1,1) and (1,-1)\n",
    "x_vals = np.linspace(0,-1,num=5)\n",
    "y_vals = np.linspace(-1,0,num=5)\n",
    "\n",
    "# plot x1,x2 data with c as the color vector, set the line width of the markers to 0\n",
    "ax.scatter(x1, x2, c=c, lw=0);\n",
    "ax.plot(x_vals,y_vals,'-')"
   ]
  },
  {
   "cell_type": "markdown",
   "metadata": {},
   "source": [
    "#### c. Using the above information, simulate a multi-layer perceptron network for the XOR operation with the learned weights from Part (b)."
   ]
  },
  {
   "cell_type": "markdown",
   "metadata": {},
   "source": [
    "We can combine the functions from 2 and the weights we derived to solve the XOR.   \n",
    "We have (x1 & !x2) + (!x1 & x2) + !(x1 or x2). We have to not the last x1 or x2 to flip the quadrants. Using our weights we can simulate the model of perceptron algo as shown in the image below. (Ignore the work below the model diagram)"
   ]
  },
  {
   "cell_type": "markdown",
   "metadata": {},
   "source": [
    "<img src=\"xor.jpg\">"
   ]
  },
  {
   "cell_type": "markdown",
   "metadata": {},
   "source": [
    "### 3.) (10 points) Suppose we are given real-valued scalar data (i.e., d = 1) belonging to one of two classes. We are given a set of three data samples with negative labels, $X_− = \\{0, 1, −1\\}$, and a set of three data samples with positive labels, $X_+ = \\{−3, 3, −2\\}$. Our goal is to build a classifier for this dataset. We will show that kernel methods are particularly useful in this case.  \n",
    "> a. Argue that no perfect linear separator in the original space can exist.  \n",
    "> b. Argue that if the data is mapped via the two-dimensional feature mapping $φ(u)=(u,u2)$, then a perfect linear separator exists.  \n",
    "> c. Given two (scalar) data points $x_1$ and $x_2$, write down the explicit form of the kernel inner product for this new feature space in terms of $x_1$ and $x_2$.  \n",
    "> d. Explicitly calculate the maximum-margin separating hyperplane in the kernel feature space. (It should be a straight line since the feature space is two-dimensional; provide the equation for this line.) Calculate the value of its margin. Use the mapping $φ$ to plot the data points in the new feature space. Draw the separating hyperplane, and mark the closest points nearest to the hyperplane."
   ]
  },
  {
   "cell_type": "markdown",
   "metadata": {},
   "source": [
    "#### a. Argue that no perfect linear separator in the original space can exist.  \n",
    "Plotting the data on a number line we can see that there is no vertical line to be drawn that can separate the two classes. "
   ]
  },
  {
   "cell_type": "code",
   "execution_count": 9,
   "metadata": {
    "scrolled": true
   },
   "outputs": [
    {
     "data": {
      "image/png": "[encoded data removed]",
      "text/plain": [
       "<matplotlib.figure.Figure at 0x10fea3240>"
      ]
     },
     "metadata": {},
     "output_type": "display_data"
    }
   ],
   "source": [
    "predictedY =[0,1,-1,-3,3,-2] \n",
    "UnlabelledY=[-1,-1,-1,1,1,1]\n",
    "\n",
    "plt.scatter(predictedY, np.zeros_like(predictedY), \n",
    "            c=UnlabelledY, cmap=\"hot_r\", vmin=-2)\n",
    "\n",
    "plt.yticks([])\n",
    "plt.show()"
   ]
  },
  {
   "cell_type": "markdown",
   "metadata": {},
   "source": [
    "#### b. Argue that if the data is mapped via the two-dimensional feature mapping  φ(u)=(u,u2)φ(u)=(u,u2) , then a perfect linear separator exists.   \n",
    "[0,1,-1,-3,3,-2]   \n",
    "$\\phi(0) = (0,0)$, $\\phi(1) = (1,1)$, $\\phi(-1) = (-1,1)$, $\\phi(-3) = (-3,9)$, $\\phi(3) = (3,9)$,$\\phi(-2) = (-2,4)$  \n",
    "Given the mapping function, any u with an absolute value less than or equal to 1, will have a u^2 no greater than or equa1 to 1. Any u with an absolute value greater than 1 will then be no less than 1 for it's u^2. Thus there is a clear boundary between the 2 classes if we think about it mathematically.  \n",
    "If we plot the data, we can also see a clear linear decision boundary between the two classes. "
   ]
  },
  {
   "cell_type": "code",
   "execution_count": 10,
   "metadata": {
    "scrolled": false
   },
   "outputs": [
    {
     "data": {
      "image/png": "[encoded data removed]",
      "text/plain": [
       "<matplotlib.figure.Figure at 0x118a47358>"
      ]
     },
     "metadata": {},
     "output_type": "display_data"
    }
   ],
   "source": [
    "x1 = np.array([0,1,-1,-3,3,-2])\n",
    "x2 = np.array([0,1,1,9,9,4])\n",
    "c = np.array([-1,-1,-1,1,1,1])\n",
    "\n",
    "fig = plt.figure(figsize=(8,7))\n",
    "ax = fig.add_subplot(111)\n",
    "# plot x1,x2 data with c as the color vector, set the line width of the markers to 0\n",
    "ax.scatter(x1, x2, c=c, lw=0);"
   ]
  },
  {
   "cell_type": "markdown",
   "metadata": {},
   "source": [
    "#### c. Given two (scalar) data points  x1  and  x2 , write down the explicit form of the kernel inner product for this new feature space in terms of  x1 and  x2    "
   ]
  },
  {
   "cell_type": "markdown",
   "metadata": {},
   "source": [
    "$K(x_{1},x_{2}) = <\\phi(x_{1}),\\phi(x_{2})>$ = $x_{1}x_{2} + x_{1}^2x_{2}^2$"
   ]
  },
  {
   "cell_type": "markdown",
   "metadata": {},
   "source": [
    "#### d. Explicitly calculate the maximum-margin separating hyperplane in the kernel feature space. (It should be a straight line since the feature space is two-dimensional; provide the equation for this line.) Calculate the value of its margin. Use the mapping  φ  to plot the data points in the new feature space. Draw the separating hyperplane, and mark the closest points nearest to the hyperplane.  \n",
    "If we use (-1,1) and (-2,4) as our support vectors we can calculate the midpoint between them as (-1.5,2.5) = ((-1 + -2)/2, (1 + 4)/2). I didn't know how to mark them on matplotlib but (-1,1) and (-2,4) are the two closest points.\n",
    "The line going through the midpoint and (-2,4) and (-1,1) is the line perpendicular to the separating line at the midpoint between (-2,4) and (-1,1). The equation of the line perpendicular to the separating line between the two points is y = (1/3)x+3.  We can then find the line perpendicular to this line to find the final separating line.   \n",
    "2.5 = -3(-1.5) + b  \n",
    "b = -2   \n",
    "The equation of the separating line is y = -3x - 2.   \n",
    "We can also solve a system of equations to the weights which would be written as $x_1*-.5 +.5*x_2 -2 = label$  The work for the weights is in the perceptron model image above.  "
   ]
  },
  {
   "cell_type": "code",
   "execution_count": 11,
   "metadata": {},
   "outputs": [
    {
     "data": {
      "image/png": "[encoded data removed]",
      "text/plain": [
       "<matplotlib.figure.Figure at 0x10fea3668>"
      ]
     },
     "metadata": {},
     "output_type": "display_data"
    }
   ],
   "source": [
    "x1 = np.array([0,1,-1,-3,3,-2])\n",
    "x2 = np.array([0,1,1,9,9,4])\n",
    "c = np.array([-1,-1,-1,1,1,1])\n",
    "\n",
    "fig = plt.figure(figsize=(8,7))\n",
    "ax = fig.add_subplot(111)\n",
    "\n",
    "x_vals = np.array([-3,-2,-1,0,1,2,3])\n",
    "y_vals = np.array([1,2,3,4,5,6,7])\n",
    "    \n",
    "# plot x1,x2 data with c as the color vector, set the line width of the markers to 0\n",
    "ax.plot(x_vals,y_vals,'-')\n",
    "ax.scatter(x1, x2, c=c, lw=0);"
   ]
  },
  {
   "cell_type": "markdown",
   "metadata": {},
   "source": [
    "### 4.) (10 points) Assuming a classification application with n data points in d dimensions where n = d = 1010, rank the following algorithms in decreasing order of (i) training times; (ii) testing times. Explicitly state these running times in terms of n and d.  \n",
    "> a. Perceptron.  \n",
    "> b. Nearest neighbors.  \n",
    "> c. Kernel perceptron with a polynomial kernel of order 4    \n",
    "> d. Kernel perceptron with gaussian kernel.  \n",
    "> e. Linear support vector machines.  "
   ]
  },
  {
   "cell_type": "markdown",
   "metadata": {},
   "source": [
    "SVM had the highest training runtime with min(O(nd^2),O(n^2d)). The others all had a similar training time with O(nd). K-NN has the highest testing runtime at O(nd), but the rest all had similar testing runtimes of O(d)."
   ]
  },
  {
   "cell_type": "markdown",
   "metadata": {
    "collapsed": true
   },
   "source": [
    "a. Perceptron. "
   ]
  },
  {
   "cell_type": "markdown",
   "metadata": {},
   "source": [
    "The training time of the perceptron algorithm is O(nd). To test for a single point we compute the sign inner product of the point with the weight vectors which will give us the class label. This is O(d) for a single point. For training, because we have n points then the total is O(nd)."
   ]
  },
  {
   "cell_type": "markdown",
   "metadata": {
    "collapsed": true
   },
   "source": [
    "b. Nearest neighbors"
   ]
  },
  {
   "cell_type": "markdown",
   "metadata": {},
   "source": [
    "Training and testing are both O(nd) --> O(1010*1010) for each query. Each distance computation takes O(d) and there are n points. The training and testing times are the same because even during testing we have to compute the distances between all points to output a predicted label. "
   ]
  },
  {
   "cell_type": "markdown",
   "metadata": {
    "collapsed": true
   },
   "source": [
    "c. Kernel perceptron with a polynomial kernel of order 4   "
   ]
  },
  {
   "cell_type": "markdown",
   "metadata": {},
   "source": [
    "The running time of the polynomial kernel perceptron is similar to regular perceptron which is O(nd).  The kernel inner product can still be computing using O(d) operations. Therefore, training is O(nd) for n points and testing is O(d) for testing a single point. "
   ]
  },
  {
   "cell_type": "markdown",
   "metadata": {
    "collapsed": true
   },
   "source": [
    "d. Kernel perceptron with gaussian kernel"
   ]
  },
  {
   "cell_type": "markdown",
   "metadata": {},
   "source": [
    "The running time of the gaussian kernel perceptron is the same as regular perceptron and polynomial kernal perceptron which is O(nd).  The kernel inner product can be computing using O(d) operations. Therefore, training is O(nd) for n points and testing is O(d) for testing a single point. "
   ]
  },
  {
   "cell_type": "markdown",
   "metadata": {},
   "source": [
    "e. Linear support vector machines"
   ]
  },
  {
   "cell_type": "markdown",
   "metadata": {},
   "source": [
    "Training is min(O(nd^2),O(n^2d)) and depends on what we are maximizing and minimizing over when we solve the QP problem. Testing a point is O(d) because we just need to plug in the points values and check which side of the line it is on and this just requires iterating over the features of that single point. "
   ]
  },
  {
   "cell_type": "markdown",
   "metadata": {},
   "source": [
    "### 5.) (15 points) We are given a sample of Italian wine. We can narrow its origin down to one of 3 possible regions – Veneto, Tuscany, and Piedmont – but no further. Fortunately, (i) we have several sample wines from these regions, and (ii) we know how to build a classifier from samples. This problem details how to build such a wine classification method.  \n",
    "> a. Download the data from http://archive.ics.uci.edu/ml/datasets/Wine. Go through the ReadMe file carefully for instructions.  \n",
    "> b. Randomly choose all but 5 samples from each class as the training data points. Test the performance of a k-NN classifier with k = 1. Record how many data points (out of 15) were wrongly classified. Repeat this random choice several times to calculate the probability of error.  \n",
    "> c. How does your above answer change if k increases? Plot/tabulate the probability of error as a function of k (up to k = 9).  \n",
    "> d. Staring at the data a bit, we realize that the “scale” of the numbers is a bit strange (some feature values are much larger than others.) To fix this, we compute the mean $μ$ and\n",
    "standard deviation $σ$ of each feature, and normalize each observation $x$ as $(x−μ)/σ$. Repeat the above NN classification with the transformed data, and show that your classification performance improves. (Such a transformation is called a z-score in statistics.)  "
   ]
  },
  {
   "cell_type": "code",
   "execution_count": 12,
   "metadata": {
    "collapsed": true
   },
   "outputs": [],
   "source": [
    "import pandas as pd\n",
    "import random\n",
    "import warnings\n",
    "from sklearn.neighbors import KNeighborsClassifier\n",
    "from sklearn import metrics\n",
    "from sklearn.preprocessing import StandardScaler\n",
    "warnings.filterwarnings('ignore')"
   ]
  },
  {
   "cell_type": "markdown",
   "metadata": {},
   "source": [
    "#### a. Download the data from http://archive.ics.uci.edu/ml/datasets/Wine. Go through the ReadMe file carefully for instructions."
   ]
  },
  {
   "cell_type": "code",
   "execution_count": 13,
   "metadata": {
    "collapsed": true
   },
   "outputs": [],
   "source": [
    "df = pd.read_csv(\"data.txt\", sep=\",\", header=None, names=[\"Class\",\"Alcohol\",\"Malic acid\"\n",
    " ,\"Ash\",\"Alcalinity of ash\",\"Magnesium\",\"Total phenols\",\"Flavanoids\", \"Nonflavanoid phenols\",\n",
    "\"Proanthocyanins\",\"Color intensity\",\"Hue\",\"OD280/OD315 of diluted wines\",\"Proline\"])\n",
    "names = [\"Alcohol\",\"Malic acid\",\"Ash\",\"Alcalinity of ash\",\"Magnesium\",\"Total phenols\",\"Flavanoids\", \"Nonflavanoid phenols\",\n",
    "    \"Proanthocyanins\",\"Color intensity\",\"Hue\",\"OD280/OD315 of diluted wines\",\"Proline\"]"
   ]
  },
  {
   "cell_type": "markdown",
   "metadata": {},
   "source": [
    "#### b. Randomly choose all but 5 samples from each class as the training data points. Test the performance of a k-NN classifier with k = 1. Record how many data points (out of 15) were wrongly classified. Repeat this random choice several times to calculate the probability of error."
   ]
  },
  {
   "cell_type": "code",
   "execution_count": 14,
   "metadata": {
    "collapsed": true
   },
   "outputs": [],
   "source": [
    "#Randomly choose all but 5 rows from each class\n",
    "#class 1 59 class 2 71 class 3 48\n",
    "df_1 = df[df.Class == 1]\n",
    "df_2 = df[df.Class == 2]\n",
    "df_3 = df[df.Class == 3]\n",
    "df_1.reset_index(drop=True)\n",
    "df_2.reset_index(drop=True)\n",
    "df_3.reset_index(drop=True)\n",
    "accuracy_scores = []\n",
    "incorrect_counts = []"
   ]
  },
  {
   "cell_type": "code",
   "execution_count": 15,
   "metadata": {
    "collapsed": true
   },
   "outputs": [],
   "source": [
    "def run_simulation(k):\n",
    "    accuracy_scores = []\n",
    "    incorrect_counts = []\n",
    "    for i in range(50):\n",
    "        rows_1 = random.sample(range(0, 59), 54)\n",
    "        rows_2 = random.sample(range(0, 71), 66)\n",
    "        rows_3 = random.sample(range(0, 48), 43)\n",
    "        test_rows_1 = [x for x in range(59) if x not in rows_1]\n",
    "        test_rows_2 = [x for x in range(59) if x not in rows_2]\n",
    "        test_rows_3 = [x for x in range(59) if x not in rows_3]\n",
    "\n",
    "        test_df1 = df_1.iloc[test_rows_1]\n",
    "        test_df2 = df_1.iloc[test_rows_2]\n",
    "        test_df3 = df_1.iloc[test_rows_3]\n",
    "        train_df1 = df_1.iloc[rows_1].astype(np.float)\n",
    "        train_df2 = df_2.iloc[rows_2].astype(np.float)\n",
    "        train_df3 = df_3.iloc[rows_3].astype(np.float)\n",
    "        temp = [train_df1, train_df2, train_df3]\n",
    "        train_df = pd.concat(temp)\n",
    "        temp2 = [test_df1, test_df2, test_df3]\n",
    "        test_df = pd.concat(temp2)\n",
    "\n",
    "        x_train = train_df[names].astype(np.float)\n",
    "        x_train = x_train.as_matrix().astype(np.float)\n",
    "        y_train = train_df[\"Class\"].astype(np.float)\n",
    "        y_train = y_train.as_matrix().astype(np.float)\n",
    "\n",
    "        x_test = test_df[names].astype(np.float)\n",
    "        x_test = x_test.as_matrix().astype(np.float)\n",
    "        y_test = test_df[\"Class\"].astype(np.float)\n",
    "        y_test = y_test.as_matrix().astype(np.float)\n",
    "        \n",
    "        knn = KNeighborsClassifier(n_neighbors = k)\n",
    "        knn.fit(x_train, y_train)\n",
    "        y_pred = knn.predict(x_test)\n",
    "        df_count = pd.DataFrame(x_test)\n",
    "        df_count[\"actual\"] = y_test\n",
    "        df_count[\"predicted\"] = y_pred\n",
    "\n",
    "        incorrect = df_count[df_count[\"actual\"] != df_count[\"predicted\"]]\n",
    "        incorrect_counts.append(len(incorrect.index))\n",
    "        accuracy_scores.append(1-metrics.accuracy_score(y_test, y_pred))\n",
    "    return sum(accuracy_scores)/len(accuracy_scores), sum(incorrect_counts)/len(incorrect_counts)"
   ]
  },
  {
   "cell_type": "code",
   "execution_count": 16,
   "metadata": {},
   "outputs": [
    {
     "name": "stdout",
     "output_type": "stream",
     "text": [
      "Average misclassification:  0.0295772575251 Average incorrect counts:  0.74\n"
     ]
    }
   ],
   "source": [
    "mean_misblah, avg_inc = run_simulation(1)\n",
    "print (\"Average misclassification: \", mean_misblah, \"Average incorrect counts: \", avg_inc)"
   ]
  },
  {
   "cell_type": "markdown",
   "metadata": {},
   "source": [
    "c. How does your above answer change if k increases? Plot/tabulate the probability of error as a function of k (up to k = 9)."
   ]
  },
  {
   "cell_type": "code",
   "execution_count": 17,
   "metadata": {
    "collapsed": true
   },
   "outputs": [],
   "source": [
    "a_scores = []\n",
    "inc_scores = []\n",
    "for i in range(1,11):\n",
    "    acc, inc = run_simulation(i)\n",
    "    a_scores.append(acc)\n",
    "    inc_scores.append(inc)"
   ]
  },
  {
   "cell_type": "code",
   "execution_count": 18,
   "metadata": {},
   "outputs": [
    {
     "data": {
      "image/png": "[encoded data removed]",
      "text/plain": [
       "<matplotlib.figure.Figure at 0x1a1c1d1710>"
      ]
     },
     "metadata": {},
     "output_type": "display_data"
    }
   ],
   "source": [
    "plt.plot([x for x in range(1,11)], a_scores, 'bo-')  \n",
    "plt.title(\"Change in Mean Misclassification with Change in K\")\n",
    "plt.xlabel('K')\n",
    "plt.ylabel('Mean Misclassification of 50 iterations')\n",
    "plt.show()"
   ]
  },
  {
   "cell_type": "markdown",
   "metadata": {
    "collapsed": true
   },
   "source": [
    "The change in mean misclassification initially goes up until k =4, but then drops overall in a jerky fashion as k approaches 9. It then increases slightly at k = 10."
   ]
  },
  {
   "cell_type": "markdown",
   "metadata": {},
   "source": [
    "#### d. Staring at the data a bit, we realize that the “scale” of the numbers is a bit strange (some feature values are much larger than others.) To fix this, we compute the mean  μ  and standard deviation  σ  of each feature, and normalize each observation  x  as  (x−μ)/σ. Repeat the above NN classification with the transformed data, and show that your classification performance improves. (Such a transformation is called a z-score in statistics.)"
   ]
  },
  {
   "cell_type": "code",
   "execution_count": 19,
   "metadata": {
    "collapsed": true
   },
   "outputs": [],
   "source": [
    "def run_scaled_simulation(k):\n",
    "    accuracy_scores = []\n",
    "    incorrect_counts = []\n",
    "    for i in range(50):\n",
    "        rows_1 = random.sample(range(0, 59), 54)\n",
    "        rows_2 = random.sample(range(0, 71), 66)\n",
    "        rows_3 = random.sample(range(0, 48), 43)\n",
    "        test_rows_1 = [x for x in range(59) if x not in rows_1]\n",
    "        test_rows_2 = [x for x in range(59) if x not in rows_2]\n",
    "        test_rows_3 = [x for x in range(59) if x not in rows_3]\n",
    "\n",
    "        test_df1 = df_1.iloc[test_rows_1]\n",
    "        test_df2 = df_1.iloc[test_rows_2]\n",
    "        test_df3 = df_1.iloc[test_rows_3]\n",
    "        train_df1 = df_1.iloc[rows_1].astype(np.float)\n",
    "        train_df2 = df_2.iloc[rows_2].astype(np.float)\n",
    "        train_df3 = df_3.iloc[rows_3].astype(np.float)\n",
    "        temp = [train_df1, train_df2, train_df3]\n",
    "        train_df = pd.concat(temp)\n",
    "        temp2 = [test_df1, test_df2, test_df3]\n",
    "        test_df = pd.concat(temp2)\n",
    "\n",
    "        x_train = train_df[names].astype(np.float)\n",
    "        x_train = StandardScaler().fit_transform(x_train)\n",
    "        x_train = x_train.as_matrix().astype(np.float)\n",
    "        y_train = train_df[\"Class\"].astype(np.float)\n",
    "        y_train = y_train.as_matrix().astype(np.float)\n",
    "\n",
    "        x_test = test_df[names].astype(np.float)\n",
    "        x_test = StandardScaler().fit_transform(x_test)\n",
    "        x_test = x_test.as_matrix().astype(np.float)\n",
    "        y_test = test_df[\"Class\"].astype(np.float)\n",
    "        y_test = y_test.as_matrix().astype(np.float)\n",
    "        knn = KNeighborsClassifier(n_neighbors = k)\n",
    "        knn.fit(x_train, y_train)\n",
    "        y_pred = knn.predict(x_test)\n",
    "        df_count = pd.DataFrame(x_test)\n",
    "        df_count[\"actual\"] = y_test\n",
    "        df_count[\"predicted\"] = y_pred\n",
    "\n",
    "        incorrect = df_count[df_count[\"actual\"] != df_count[\"predicted\"]]\n",
    "        incorrect_counts.append(len(incorrect.index))\n",
    "        accuracy_scores.append(1-metrics.accuracy_score(y_test, y_pred))\n",
    "    return sum(accuracy_scores)/len(accuracy_scores), sum(incorrect_counts)/len(incorrect_counts)"
   ]
  },
  {
   "cell_type": "code",
   "execution_count": 20,
   "metadata": {
    "collapsed": true
   },
   "outputs": [],
   "source": [
    "a_scores = []\n",
    "inc_scores = []\n",
    "for i in range(1,11):\n",
    "    acc, inc = run_simulation(i)\n",
    "    a_scores.append(acc)\n",
    "    inc_scores.append(inc)"
   ]
  },
  {
   "cell_type": "code",
   "execution_count": 21,
   "metadata": {
    "scrolled": false
   },
   "outputs": [
    {
     "data": {
      "image/png": "[encoded data removed]",
      "text/plain": [
       "<matplotlib.figure.Figure at 0x1a1c25e080>"
      ]
     },
     "metadata": {},
     "output_type": "display_data"
    }
   ],
   "source": [
    "plt.plot([x for x in range(1,11)], a_scores, 'bo-')  \n",
    "plt.title(\"Change in Mean MisclassificationAccuracy with Change in K\")\n",
    "plt.xlabel('K')\n",
    "plt.ylabel('Mean Accuracy of 10 iterations')\n",
    "plt.show()"
   ]
  },
  {
   "cell_type": "markdown",
   "metadata": {},
   "source": [
    "The overall shape of the plot is similar to before scaling the data. Without scaling there is more variation in the misclassification rate between k = 3->10. Scaling the data is probably a good idea for working with data in the future."
   ]
  },
  {
   "cell_type": "markdown",
   "metadata": {},
   "source": [
    "### 6.) (10 points) In this problem, we will implement the Perceptron algorithm on synthetic training data.  \n",
    "> a. Suppose that the data dimension d equals 2. Generate two classes of data points with 100 points each, by sampling from Gaussian distributions centered at (0.5, 0.5) and (−0.5, −0.5). Choose the variance of the Gaussian to be small enough so that the data points are sufficiently well separated. Plot the data points on the 2D plane to confirm that this is the case.  \n",
    "> b. Implement the Perceptron algorithm as discussed in class. Choose the initial weights to be zero and the maximum number of epochs as T = 100, and the learning rate α = 1. How quickly does your implementation converge?  \n",
    "> c. Now, repeat the above experiment with a second synthetic dataset; this time, increase the variance of the Gaussians such that the generated data points from different classes now overlap. What happens to the behavior of the algorithm? Does it converge? Show that classification regions obtained at the end of T epochs.  "
   ]
  },
  {
   "cell_type": "markdown",
   "metadata": {},
   "source": [
    "#### a. Suppose that the data dimension d equals 2. Generate two classes of data points with 100 points each, by sampling from Gaussian distributions centered at (0.5, 0.5) and (−0.5, −0.5). Choose the variance of the Gaussian to be small enough so that the data points are sufficiently well separated. Plot the data points on the 2D plane to confirm that this is the case."
   ]
  },
  {
   "cell_type": "code",
   "execution_count": 22,
   "metadata": {},
   "outputs": [],
   "source": [
    "arr = (np.random.randn(100, 2) / 10) + 0.5\n",
    "arr2 = (np.random.randn(100, 2) / 10) - 0.5\n",
    "x,y = arr.T\n",
    "at = np.hstack((arr, np.ones((100,1))))\n",
    "at = np.hstack((at, np.ones((100,1))))\n",
    "temp = np.ones((100,1)) \n",
    "temp = temp * -1\n",
    "arr2 = np.hstack((arr2, np.ones((100,1))))\n",
    "at2 = np.hstack((arr2, temp))\n",
    "train = np.vstack([at, at2])"
   ]
  },
  {
   "cell_type": "code",
   "execution_count": 23,
   "metadata": {},
   "outputs": [
    {
     "data": {
      "image/png": "[encoded data removed]",
      "text/plain": [
       "<matplotlib.figure.Figure at 0x1a1c25c9e8>"
      ]
     },
     "metadata": {},
     "output_type": "display_data"
    }
   ],
   "source": [
    "plt.plot(arr[:,0], arr[:,1],'ro', arr2[:,0], arr2[:,1],'bo')\n",
    "plt.ylabel('some numbers')\n",
    "plt.show()"
   ]
  },
  {
   "cell_type": "markdown",
   "metadata": {},
   "source": [
    "#### b. Implement the Perceptron algorithm as discussed in class. Choose the initial weights to be zero and the maximum number of epochs as T = 100, and the learning rate α = 1. How quickly does your implementation converge? \n",
    "My algorithm takes 2 iterations before it returns the weight values, so it converges quickly."
   ]
  },
  {
   "cell_type": "code",
   "execution_count": 24,
   "metadata": {
    "collapsed": true
   },
   "outputs": [],
   "source": [
    "def perceptron(X, Y, epochs):\n",
    "    #initialize weights, t, and alpha\n",
    "    w = np.zeros(len(X[0]))\n",
    "    w_old = np.zeros(len(X[0]))\n",
    "    eta = 1\n",
    "    t = 0\n",
    "    \n",
    "    # loop once because w will equal w_old in the first if condition check\n",
    "    for i, x in enumerate(X):\n",
    "        if (np.sign(np.dot(X[i], w)) != Y[i]):\n",
    "            w = w + eta*X[i]*Y[i]\n",
    "    t = t + 1\n",
    "\n",
    "    #keep iterating for number of epochs\n",
    "    while (t < epochs): \n",
    "        #check to see if there has been a change in w_t (the old weights)\n",
    "        if (np.array_equal(w, w_old)):\n",
    "            break\n",
    "        else:\n",
    "            w_old = w\n",
    "            #print(\"updating w\")\n",
    "            #iterate through all the is to update the weights\n",
    "            for i, x in enumerate(X):\n",
    "                if (np.sign(np.dot(X[i], w)) != Y[i]):\n",
    "                    w = w + eta*X[i]*Y[i]\n",
    "            t = t + 1\n",
    "    return w, t"
   ]
  },
  {
   "cell_type": "code",
   "execution_count": 25,
   "metadata": {},
   "outputs": [
    {
     "name": "stdout",
     "output_type": "stream",
     "text": [
      "[ 0.78353761  0.92917949  0.        ]\n",
      "2\n"
     ]
    }
   ],
   "source": [
    "#the third column is the bias term\n",
    "weights, iters = perceptron(train[:,:3],train[:,3], 100)\n",
    "print(weights)\n",
    "print(iters)"
   ]
  },
  {
   "cell_type": "code",
   "execution_count": 26,
   "metadata": {},
   "outputs": [
    {
     "name": "stdout",
     "output_type": "stream",
     "text": [
      "1.0\n"
     ]
    }
   ],
   "source": [
    "#calculate training accuracy\n",
    "shizz = train[:,:3]\n",
    "pred = np.zeros((200,1))\n",
    "for i in range(200):\n",
    "    pred[i] = np.sign(np.dot(shizz[i], weights))\n",
    "print(np.mean(pred == train[:,3].reshape((200,1))))"
   ]
  },
  {
   "cell_type": "markdown",
   "metadata": {},
   "source": [
    "Plugging in our weights we can plot the separating line from our algorithm and see that it does a good job separating the two clusters."
   ]
  },
  {
   "cell_type": "code",
   "execution_count": 27,
   "metadata": {},
   "outputs": [
    {
     "data": {
      "image/png": "[encoded data removed]",
      "text/plain": [
       "<matplotlib.figure.Figure at 0x1a1c2b3ac8>"
      ]
     },
     "metadata": {},
     "output_type": "display_data"
    }
   ],
   "source": [
    "x_vals = np.array([1,0,-1])\n",
    "y_vals = np.array([-1.80457,0, 1.80457])\n",
    "plt.plot(arr[:,0], arr[:,1],'ro', arr2[:,0], arr2[:,1],'bo',x_vals,y_vals, '-')\n",
    "plt.ylabel('some numbers')\n",
    "plt.show()"
   ]
  },
  {
   "cell_type": "markdown",
   "metadata": {},
   "source": [
    "#### c. Now, repeat the above experiment with a second synthetic dataset; this time, increase the variance of the Gaussians such that the generated data points from different classes now overlap. What happens to the behavior of the algorithm? Does it converge? Show that classification regions obtained at the end of T epochs.  \n",
    "With overlapping data, the algorithm doesn't converge within 100 iterations. This makes sense as there is no linear line that could separate the data perfectly. We can plot the line using the weights that have been output and see the decision boundary isn't perfect but gets the general area where a line could be drawn."
   ]
  },
  {
   "cell_type": "code",
   "execution_count": 28,
   "metadata": {
    "collapsed": true
   },
   "outputs": [],
   "source": [
    "arr_var = (np.random.randn(100, 2) / 2) + 0.5\n",
    "arr2_var = (np.random.randn(100, 2) / 2) - 0.5\n",
    "at_var = np.hstack((arr_var, np.ones((100,1))))\n",
    "at_var = np.hstack((at_var, np.ones((100,1))))\n",
    "temp_var = np.ones((100,1)) \n",
    "temp_var = temp_var * -1\n",
    "arr2_var = np.hstack((arr2_var, np.ones((100,1))))\n",
    "at2_var = np.hstack((arr2_var, temp_var))\n",
    "train_var = np.vstack([at_var, at2_var])"
   ]
  },
  {
   "cell_type": "code",
   "execution_count": 29,
   "metadata": {},
   "outputs": [
    {
     "data": {
      "image/png": "[encoded data removed]",
      "text/plain": [
       "<matplotlib.figure.Figure at 0x1a1c455c88>"
      ]
     },
     "metadata": {},
     "output_type": "display_data"
    }
   ],
   "source": [
    "plt.plot(arr_var[:,0], arr_var[:,1],'ro', arr2_var[:,0], arr2_var[:,1],'bo')\n",
    "plt.ylabel('some numbers')\n",
    "plt.show()"
   ]
  },
  {
   "cell_type": "code",
   "execution_count": 30,
   "metadata": {},
   "outputs": [
    {
     "name": "stdout",
     "output_type": "stream",
     "text": [
      "[ 1.25421423  1.82198927 -1.        ]\n",
      "100\n"
     ]
    }
   ],
   "source": [
    "weights2, iters2 = perceptron(train_var[:,:3],train_var[:,3], 100)\n",
    "print(weights2)\n",
    "print(iters2)"
   ]
  },
  {
   "cell_type": "code",
   "execution_count": 32,
   "metadata": {},
   "outputs": [
    {
     "data": {
      "text/plain": [
       "0.83499999999999996"
      ]
     },
     "execution_count": 32,
     "metadata": {},
     "output_type": "execute_result"
    }
   ],
   "source": [
    "shizz = train_var[:,:3]\n",
    "pred = np.zeros((200,1))\n",
    "for i in range(200):\n",
    "    pred[i] = np.sign(np.dot(shizz[i], weights2))\n",
    "np.mean(pred == train_var[:,3].reshape((200,1)))"
   ]
  },
  {
   "cell_type": "code",
   "execution_count": 33,
   "metadata": {},
   "outputs": [
    {
     "data": {
      "image/png": "[encoded data removed]",
      "text/plain": [
       "<matplotlib.figure.Figure at 0x1a1c52bcc0>"
      ]
     },
     "metadata": {},
     "output_type": "display_data"
    }
   ],
   "source": [
    "x_vals = np.array([2,1,0,-1,-2,-3])\n",
    "y_vals = np.array([-1.53187,-0.108959,1.31395,2.73687,4.15978, 5.58269])\n",
    "plt.plot(arr_var[:,0], arr_var[:,1],'ro', arr2_var[:,0], arr2_var[:,1],'bo', x_vals, y_vals, '-')\n",
    "plt.ylabel('some numbers')\n",
    "plt.show()"
   ]
  },
  {
   "cell_type": "markdown",
   "metadata": {},
   "source": [
    "<img src=\"1.jpg\">"
   ]
  },
  {
   "cell_type": "markdown",
   "metadata": {},
   "source": [
    "<img src=\"2.jpg\">"
   ]
  },
  {
   "cell_type": "markdown",
   "metadata": {},
   "source": [
    "<img src=\"3.jpg\">"
   ]
  }
 ],
 "metadata": {
  "kernelspec": {
   "display_name": "Python 3",
   "language": "python",
   "name": "python3"
  },
  "language_info": {
   "codemirror_mode": {
    "name": "ipython",
    "version": 3
   },
   "file_extension": ".py",
   "mimetype": "text/x-python",
   "name": "python",
   "nbconvert_exporter": "python",
   "pygments_lexer": "ipython3",
   "version": "3.6.3"
  }
 },
 "nbformat": 4,
 "nbformat_minor": 2
}
