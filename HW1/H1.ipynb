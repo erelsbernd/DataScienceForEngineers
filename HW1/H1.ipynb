{
 "cells": [
  {
   "cell_type": "markdown",
   "metadata": {},
   "source": [
    "**1. (10points) Let {x1,x2,...,xn} be a set of points in d-dimensional space. Suppose we wish to produce a single point estimate μ ∈ Rd that minimizes the squared-error: **\n",
    "$$ \\lVert x_1 - \\mu \\rVert_{2}^2  +  \\lVert x_2 - \\mu \\rVert_{2}^2  + ... + \\lVert x_n - \\mu \\rVert_{2}^2 $$  \n",
    "**Find a closed form expression for** $\\mu$ **and prove that your answer is correct.**"
   ]
  },
  {
   "cell_type": "markdown",
   "metadata": {},
   "source": [
    "$$ \\lVert x_1 - \\mu \\rVert_{2}^2  +  \\lVert x_2 - \\mu \\rVert_{2}^2  + ... + \\lVert x_n - \\mu \\rVert_{2}^2 $$\n",
    "$$ =  \\sum_{i=1}^{n} (\\|x_i - \\mu \\|_{2}^2)$$\n",
    "$$ =  \\sum_{i=1}^{n} \\sum_{j=1}^{d}(x_{ij} - \\mu_j)^2$$\n",
    "We need to find the value of $\\mu$ that will minimize $\\sum_{i=1}^{n} \\sum_{j=1}^{d}(x_{ij} - \\mu_j)^2$.   \n",
    "We can first start by taking the partial derivative with respect to $\\mu_1$.\n",
    "$$\\frac{\\partial}{\\partial \\mu_1}\\sum_{i=1}^{n} \\sum_{j=1}^{d}(x_{ij} - \\mu_j)^2$$\n",
    "$$= \\sum_{i=1}^{n}\\frac{\\partial}{\\partial \\mu_1}[(x_{i1} - \\mu_1)^2 +(x_{i2} - \\mu_2)^2 + ... + (x_{id} - \\mu_d)^2]$$\n",
    "$$= \\sum_{i=1}^{n}\\frac{\\partial}{\\partial \\mu_1}(x_{i1} - \\mu_1)^2 + \\frac{\\partial}{\\partial \\mu_1}(x_{i2} - \\mu_2)^2 + ... + \\frac{\\partial}{\\partial \\mu_1}(x_{id} - \\mu_d)^2$$\n",
    "$$= -2[(x_{i1} - \\mu_1) + 0 + ... + 0] = -2(x_{i1} - \\mu_1)$$\n",
    "We can find a similar pattern taking the partial derivative with respect to $\\mu_2$ where we would end up with $$= -2[0 + (x_{i2} - \\mu_2) + ... + 0] = -2(x_{i2} - \\mu_2)$$\n",
    "$$ = \\sum_{i=1}^{n}-2(x_{i1} - \\mu_1)$$  \n",
    "This will hold for all values of $\\mu_1 ... \\mu_d$. We can then take the partial derivative for the vector $\\mu$.  \n",
    "$$\\frac{\\partial}{\\partial \\mu}\\sum_{i=1}^{n} \\sum_{j=1}^{d}(x_{ij} - \\mu_j)^2 = -2\\sum_{i=1}^{n}(x_i - \\mu)$$  \n",
    "$$-2\\sum_{i=1}^{n}(x_i - \\mu) = -2 [(x_1 - \\mu) + (x_2 - \\mu) + (x_3 - \\mu) + ... + (x_n - \\mu)])$$\n",
    "$$= -2[x_1 + x_2 + ... + x_n - n\\mu]$$\n",
    "We can set the above to a vector of 0s and solve for $\\mu$.  \n",
    "$$0 = -2[x_1 + x_2 + ... + x_n - n\\mu]$$\n",
    "$$0 = x_1 + x_2 + ... + x_n - n\\mu$$\n",
    "$$n\\mu = x_1 + x_2 + ... + x_n$$\n",
    "$$\\mu = (x_1 + x_2 + ... + x_n)/n$$\n",
    "This will give us the mean of x  \n",
    "\n",
    "To prove this we can the second derivative of the solution. Let's take the partial derivative again with respect to $\\mu$.  \n",
    "$$\\frac{\\partial}{\\partial \\mu}-2\\sum_{i=1}^{n}(x_i - \\mu)$$  \n",
    "$$= -2\\sum_{i=1}^{n}(x_i - \\mu) = -2[(x_1 - \\mu) + (x_2 - \\mu) + ... + (x_n - \\mu)]$$  \n",
    "$$= -2[x_1 + x_2 + ... + x_n - n\\mu]$$ \n",
    "$$= 2n$$  \n",
    "Since 2n is greater than 0, n will always be a value greater than 0, this shows us we have found a local min and the solution is proven correct."
   ]
  },
  {
   "cell_type": "markdown",
   "metadata": {},
   "source": [
    "**2. (10 points) Not all norms behave the same; for instance, the l1-norm of a vector can be dramatically different from the l2-norm, especially in high dimensions. Prove the following norm inequalities for d-dimensional vectors, starting from the definitions provided in class and\n",
    "lecture notes. (Use any algebraic technique/result you like, as long as you cite it.)**  \n",
    "> a.) $\\lVert x \\rVert_{2} \\leqslant \\lVert x \\rVert_{1} \\leqslant \\sqrt{d}\\lVert x \\rVert_{2}$  \n",
    "> b.) $\\lVert x \\rVert_{\\infty} \\leqslant \\lVert x \\rVert_{2} \\leqslant \\sqrt{d}\\lVert x \\rVert_{\\infty}$  \n",
    "> c.) $\\lVert x \\rVert_{\\infty} \\leqslant \\lVert x \\rVert_{1} \\leqslant \\sqrt{d}\\lVert x \\rVert_{1}$  "
   ]
  },
  {
   "cell_type": "markdown",
   "metadata": {},
   "source": [
    "a.)$$\\lVert x \\rVert_{2} \\leqslant \\lVert x \\rVert_{1} \\leqslant \\sqrt{d}\\lVert x \\rVert_{2}$$  We can start by solving the first part of the inequality $\\lVert x \\rVert_{2} \\leqslant \\lVert x \\rVert_{1}$  \n",
    "We can square both sides to get $$\\lVert x \\rVert_{2}^2 \\leqslant \\lVert x \\rVert_{1}^2 = \\sum_{i=1}^{d}x_i^2 \\leqslant \\Big(\\sum_{i=1}^{d} |x_i|\\Big)^2$$  \n",
    "$$ = \\sum_{i=1}^{d}x_i^2 \\leqslant \\Big(\\sum_{i=1}^{d} |x_i| * \\sum_{j=1}^{d} |x_j|\\Big)$$  \n",
    "$$ = \\sum_{i=1}^{d}x_i^2 \\leqslant \\Big(\\sum_{i=1}^{d} |x_i|^2 + 2\\sum_{i,j=1, i\\neq j}^{d} |x_i||x_j|\\Big)$$  \n",
    "We can subtract $\\sum_{i=1}^{d} |x_i|^2$ from the right side to get 0 on the left because the square of an absolute value is equal to the square of a value, e.g. $|-2|^2 = 2^2$  \n",
    "$$0 \\leqslant 2\\sum_{i,j=1, i\\neq j}^{d} |x_i||x_j|$$  \n",
    "Because we are taking the absolute values of $x_i$ and $x_j$, and multiplying them together, their product can't be less than 0. Thus, even if all points were 0, the sume of their products still be at least 0. So we would end up with $0 \\leqslant 0$. And if at least 1 corresponding point $x_i$ and $x_j$ was 1, then the sum of the products would be at least 1, $0 \\leqslant 1$. Thus the first part of the inequality holds.\n",
    "\n",
    "For the second part, $\\lVert x \\rVert_{1} \\leqslant \\sqrt{d}\\lVert x \\rVert_{2}$, we can use Cauchy-Schwartz. Let's first square both sides of the inequality to get $$\\lVert x \\rVert_{1}^2 \\leqslant d\\lVert x \\rVert_{2}^2 = \\Big(\\sum_{i=1}^{d} |x_i|\\Big)^2 \\leqslant  d*\\sum_{i=1}^{d}x_i^2$$  \n",
    "\n",
    "Cauchy-Schwartz states that for all vectors u and v of an inner product space it is true that $${\\displaystyle \\left|\\sum _{i=1}^{n}u_{i}{v}_{i}\\right|^{2}\\leq \\sum _{j=1}^{n}|u_{j}|^{2}\\sum _{k=1}^{n}|v_{k}|^{2}.}$$  \n",
    "\n",
    "If we plug in $u_{i} = |x_{i}|$ and $v_{i} = 1$ then we will end up with \n",
    "$$\\left|\\sum _{i=1}^{d}|x_{i}|*1\\right|^{2}\\leq \\sum _{i=1}^{d}|x_{i}|^{2}\\sum _{k=1}^{d}1^{2}$$.  \n",
    "$$ = \\left|\\sum _{i=1}^{d}|x_{i}|*1\\right|^{2}\\leq \\sum _{i=1}^{d}|x_{i}|^{2} * d$$.  \n",
    "$$ = \\left|\\sum _{i=1}^{d}|x_{i}|\\right|^{2}\\leq \\sum _{i=1}^{d}|x_{i}|^{2} * d$$. \n",
    "\n",
    "Substituting our values in Cauchy-Schwartz we see that the inequality holds and the solution is proven correct."
   ]
  },
  {
   "cell_type": "markdown",
   "metadata": {},
   "source": [
    "b.) $$\\lVert x \\rVert_{\\infty} \\leqslant \\lVert x \\rVert_{2} \\leqslant \\sqrt{d}\\lVert x \\rVert_{\\infty}$$  \n",
    "We can start by solving the first part of the inequality $\\lVert x \\rVert_{\\infty} \\leqslant \\lVert x \\rVert_{2}$  \n",
    "We know that $\\lVert x \\rVert_{\\infty}$ is the maximum entries’ magnitude of that vector which we will write as $\\left \\| x \\right \\|_{\\infty} = max(\\left | x_i \\right |)$  \n",
    "We can square both side of the inequality to get $max(\\left | x_i \\right |)^2 \\leqslant \\sum_{i=1}^{d}|x_i|^2$  \n",
    "We can expand the right side to get $max(\\left | x_i \\right |)^2 \\leqslant |x_1|^2+|x_2|^2+...+|x_d|^2$  \n",
    "If we suppose x_d is the max point then we can subtract it from the left side to get $0 \\leqslant |x_1|^2+|x_2|^2+...+|x_{d-1}|^2$  \n",
    "The squared sum of the rest of the points will always be greater than the squared sum of even the single max point. Even if all the rest of the points are 0 we would still be left with $0 \\leqslant 0+0+0$  and the first part of the inequality holds.  \n",
    "\n",
    "For the second part, $\\lVert x \\rVert_{2} \\leqslant \\sqrt{d}\\lVert x \\rVert_{\\infty}$, let's first rewrite $\\lVert x \\rVert_{\\infty}$ as $max(\\left | x_i \\right |)$ which will give us$\\lVert x \\rVert_{2} \\leqslant \\sqrt{d} (max(\\left | x_i \\right |))$.  \n",
    "Let's square both sides to get $$\\lVert x \\rVert_{2}^2 \\leqslant d (max(\\left | x_i \\right |)^2)$$  \n",
    "$$= \\sum _{i=1}^{d}|x_{i}|^2 \\leqslant d (max(\\left | x_i \\right |)^2)$$ \n",
    "$$= |x_{1}|^2 + |x_{2}|^2 + ... + |x_{d}|^2\\leqslant d (max(\\left | x_i \\right |)^2)$$  \n",
    "$$= |x_{1}|^2 + |x_{2}|^2 + ... + |x_{d}|^2\\leqslant max(\\left | x_i \\right |)^2 + max(\\left | x_i \\right |)^2 + ... + max(\\left | x_i \\right |)^2$$  \n",
    "Let's suppose $max(\\left | x_i \\right |)^2 = max(\\left | x_d \\right |)^2 $. \n",
    "Because $max(\\left | x_d \\right |)^2$ is greater than any single $|x_{1}|^2, |x_{2}|^2, ... ,|x_{d-1}|^2$, summing $max(\\left | x_d \\right |)^2$ d times would always be greater than $|x_{1}|^2, |x_{2}|^2, ... ,|x_{d}|^2$ because all the other d-1 points are less than $max(\\left | x_d \\right |)$. Thus the inequality holds and the solution is proven correct."
   ]
  },
  {
   "cell_type": "markdown",
   "metadata": {},
   "source": [
    "c.) $$\\lVert x \\rVert_{\\infty} \\leqslant \\lVert x \\rVert_{1} \\leqslant \\sqrt{d}\\lVert x \\rVert_{1}$$  \n",
    "We can start by solving the first part of the inequality $\\lVert x \\rVert_{\\infty} \\leqslant \\lVert x \\rVert_{1}$  \n",
    "We know that $\\lVert x \\rVert_{\\infty}$ is the maximum entries’ magnitude of that vector which we will write as $\\left \\| x \\right \\|_{\\infty} = max(\\left | x_i \\right |)$  \n",
    "We can square both side of the inequality to get $max(\\left | x_i \\right |)^2 \\leqslant (\\sum_{i=1}^{d}|x_i|)^2$  \n",
    "Which can be rewritten as $max(\\left | x_i \\right |)^2 \\leqslant \\Big(\\sum_{i=1}^{d} |x_i| * \\sum_{j=1}^{d} |x_j|\\Big) = \\Big(\\sum_{i=1}^{d} |x_i|^2 + 2\\sum_{i,j=1, i\\neq j}^{d} |x_i||x_j|\\Big)$   \n",
    "If we suppose x_d is the max point then we can subtract it from the left side to get $0 \\leqslant \\Big(\\sum_{i=1}^{d-1} |x_i|^2 + 2\\sum_{i,j=1, i\\neq j}^{d} |x_i||x_j|\\Big)$  \n",
    "We know from 2b that $0 \\leqslant |x_1|^2+|x_2|^2+...+|x_{d-1}|^2$  so it is certain that $0 \\leqslant \\Big(\\sum_{i=1}^{d-1} |x_i|^2 + 2\\sum_{i,j=1, i\\neq j}^{d} |x_i||x_j|\\Big)$  This inequality holds.  \n",
    "\n",
    "For the second part, $\\lVert x \\rVert_{1} \\leqslant \\sqrt{d}\\lVert x \\rVert_{1}$, we can use simple algebraic manipulation. If we divide both sides of the inequality by $\\lVert x \\rVert_{1}$ we will end up with $$1 \\leqslant \\sqrt{d}$$  Even if d = 1, the inequality will still hold as $1 \\leqslant 1$. Since we know that the number of dimensions has to be greater than or equal to 0. For any d greater than 1 then, the square root of that d will always be greater than 1. Thus the inequality holds and $\\lVert x \\rVert_{1} \\leqslant \\sqrt{d}\\lVert x \\rVert_{1}$.  "
   ]
  },
  {
   "cell_type": "markdown",
   "metadata": {},
   "source": [
    "**3. (10 points) When we think of a Gaussian distribution (a bell-curve) in 1, 2, or 3 dimensions, the picture that comes to mind is a “blob” with a lot of mass near the origin and exponential decay away from the origin. However, the picture is very different in higher dimensions (and illustrates the counter-intuitive nature of high-dimensional data analysis). In short, we will show that Gaussian distributions are like soap bubbles: most of the mass is concentrated near a shell of a given radius, and is empty everywhere else.  **\n",
    "> a. Fix d = 3 and generate 10,000 random samples from the standard multi-variate Gaussian distribution defined in Rd.  \n",
    "> b. Compute and plot the histogram of Euclidean norms of your samples. Also calculate the average and standard deviation of the norms.  \n",
    "> c. Increase d on a coarsely spaced log scale all the way up to d = 1000 (say d = 50, 100, 200, 500, 1000), and repeat parts (a) and (b). Plot the variation of the average and the standard deviation of Euclidean norm of the samples with increasing d.  \n",
    "> d. What can you conclude from your plot from part (c)?  \n",
    "> e. Bonus, not for grade. Mathematically justify your conclusion using a formal proof. You are free to use any familiar laws of probability, algebra, or geometry.  "
   ]
  },
  {
   "cell_type": "markdown",
   "metadata": {},
   "source": [
    "#### a. Fix d = 3 and generate 10,000 random samples from the standard multi-variate Gaussian distribution defined in Rd."
   ]
  },
  {
   "cell_type": "code",
   "execution_count": 1,
   "metadata": {
    "collapsed": true
   },
   "outputs": [],
   "source": [
    "import numpy as np\n",
    "import math\n",
    "import matplotlib.pyplot as plt\n",
    "import warnings\n",
    "warnings.filterwarnings('ignore')\n",
    "samples = np.random.randn(10000, 3)"
   ]
  },
  {
   "cell_type": "markdown",
   "metadata": {},
   "source": [
    "#### b. Compute and plot the histogram of Euclidean norms of your samples. Also calculate the average and standard deviation of the norms.  "
   ]
  },
  {
   "cell_type": "code",
   "execution_count": 2,
   "metadata": {},
   "outputs": [
    {
     "data": {
      "image/png": "[encoded data removed]",
      "text/plain": [
       "<matplotlib.figure.Figure at 0x10f7ad518>"
      ]
     },
     "metadata": {},
     "output_type": "display_data"
    }
   ],
   "source": [
    "from numpy import linalg as LA\n",
    "sampleNorm = LA.norm(samples, axis=1)\n",
    "x = [x for x in range(0,36) if (x%2==0)]\n",
    "plt.hist(sampleNorm, bins='auto')\n",
    "plt.title(\"Histogram of Euclidean Norms\")\n",
    "plt.xticks(x)\n",
    "plt.show()"
   ]
  },
  {
   "cell_type": "code",
   "execution_count": 3,
   "metadata": {},
   "outputs": [
    {
     "name": "stdout",
     "output_type": "stream",
     "text": [
      "Mean of the norms:  1.5959758963\n",
      "Average of the norms:  1.5959758963\n",
      "Standard Deviation of the norms:  0.671844903124\n"
     ]
    }
   ],
   "source": [
    "print(\"Mean of the norms: \", np.mean(sampleNorm))\n",
    "print(\"Average of the norms: \", np.average(sampleNorm))\n",
    "print(\"Standard Deviation of the norms: \", np.std(sampleNorm))"
   ]
  },
  {
   "cell_type": "markdown",
   "metadata": {},
   "source": [
    "#### c. Increase d on a coarsely spaced log scale all the way up to d = 1000 (say d = 50, 100, 200, 500, 1000), and repeat parts (a) and (b). Plot the variation of the average and the standard deviation of Euclidean norm of the samples with increasing d."
   ]
  },
  {
   "cell_type": "code",
   "execution_count": 4,
   "metadata": {},
   "outputs": [
    {
     "data": {
      "image/png": "[encoded data removed]",
      "text/plain": [
       "<matplotlib.figure.Figure at 0x119c90128>"
      ]
     },
     "metadata": {},
     "output_type": "display_data"
    }
   ],
   "source": [
    "mean_list = []\n",
    "std_list = []\n",
    "mean_list.append(np.average(sampleNorm))\n",
    "std_list.append(np.std(sampleNorm))\n",
    "\n",
    "d50 = np.random.randn(10000, 50)\n",
    "norm50 = LA.norm(d50, axis=1)\n",
    "mean_list.append(np.average(norm50))\n",
    "std_list.append(np.std(norm50))\n",
    "plt.hist(norm50, bins='auto')\n",
    "plt.title(\"Histogram of Euclidean Norms d=50\")\n",
    "plt.xticks(x)\n",
    "plt.show()"
   ]
  },
  {
   "cell_type": "code",
   "execution_count": 5,
   "metadata": {},
   "outputs": [
    {
     "data": {
      "image/png": "[encoded data removed]",
      "text/plain": [
       "<matplotlib.figure.Figure at 0x1169b7550>"
      ]
     },
     "metadata": {},
     "output_type": "display_data"
    }
   ],
   "source": [
    "d100 = np.random.randn(10000, 100)\n",
    "norm100 = LA.norm(d100, axis=1)\n",
    "mean_list.append(np.average(norm100))\n",
    "std_list.append(np.std(norm100))\n",
    "plt.hist(norm100, bins='auto')\n",
    "plt.title(\"Histogram of Euclidean Norms d=100\")\n",
    "plt.xticks(x)\n",
    "plt.show()"
   ]
  },
  {
   "cell_type": "code",
   "execution_count": 6,
   "metadata": {},
   "outputs": [
    {
     "data": {
      "image/png": "[encoded data removed]",
      "text/plain": [
       "<matplotlib.figure.Figure at 0x11a601908>"
      ]
     },
     "metadata": {},
     "output_type": "display_data"
    }
   ],
   "source": [
    "d200 = np.random.randn(10000, 200)\n",
    "norm200 = LA.norm(d200, axis=1)\n",
    "mean_list.append(np.average(norm200))\n",
    "std_list.append(np.std(norm200))\n",
    "plt.hist(norm200, bins='auto')\n",
    "plt.title(\"Histogram of Euclidean Norms d=200\")\n",
    "plt.xticks(x)\n",
    "plt.show()"
   ]
  },
  {
   "cell_type": "code",
   "execution_count": 7,
   "metadata": {},
   "outputs": [
    {
     "data": {
      "image/png": "[encoded data removed]",
      "text/plain": [
       "<matplotlib.figure.Figure at 0x11d59e240>"
      ]
     },
     "metadata": {},
     "output_type": "display_data"
    }
   ],
   "source": [
    "d500 = np.random.randn(10000, 500)\n",
    "norm500 = LA.norm(d500, axis=1)\n",
    "plt.hist(norm500, bins='auto')\n",
    "mean_list.append(np.average(norm500))\n",
    "std_list.append(np.std(norm500))\n",
    "plt.title(\"Histogram of Euclidean Norms d=500\")\n",
    "plt.xticks(x)\n",
    "plt.show()"
   ]
  },
  {
   "cell_type": "code",
   "execution_count": 8,
   "metadata": {},
   "outputs": [
    {
     "data": {
      "image/png": "[encoded data removed]",
      "text/plain": [
       "<matplotlib.figure.Figure at 0x10f853d68>"
      ]
     },
     "metadata": {},
     "output_type": "display_data"
    }
   ],
   "source": [
    "d1000 = np.random.randn(10000, 1000)\n",
    "norm1000 = LA.norm(d1000, axis=1)\n",
    "mean_list.append(np.average(norm1000))\n",
    "std_list.append(np.std(norm1000))\n",
    "plt.hist(norm1000, bins='auto')\n",
    "plt.title(\"Histogram of Euclidean Norms d=1000\")\n",
    "plt.xticks(x)\n",
    "plt.show()"
   ]
  },
  {
   "cell_type": "code",
   "execution_count": 9,
   "metadata": {},
   "outputs": [
    {
     "data": {
      "image/png": "[encoded data removed]",
      "text/plain": [
       "<matplotlib.figure.Figure at 0x11b677320>"
      ]
     },
     "metadata": {},
     "output_type": "display_data"
    }
   ],
   "source": [
    "x = [3,50,100,200,500,1000]\n",
    "plt.plot(mean_list, x, 'bo-')  \n",
    "plt.title(\"Change in Average With Increased Dimensions\")\n",
    "plt.xlabel('Average')\n",
    "plt.ylabel('Number of Dimensions')\n",
    "plt.show()"
   ]
  },
  {
   "cell_type": "code",
   "execution_count": 10,
   "metadata": {},
   "outputs": [
    {
     "data": {
      "image/png": "[encoded data removed]",
      "text/plain": [
       "<matplotlib.figure.Figure at 0x11b65d4a8>"
      ]
     },
     "metadata": {},
     "output_type": "display_data"
    }
   ],
   "source": [
    "x = [3,50,100,200,500,1000]\n",
    "plt.plot(x, std_list, 'bo-')  \n",
    "plt.title(\"Change in Standard Deviation With Increased Dimensions\")\n",
    "plt.ylabel('Standard Deviation')\n",
    "plt.xlabel('Number of Dimensions')\n",
    "plt.show()"
   ]
  },
  {
   "cell_type": "markdown",
   "metadata": {},
   "source": [
    "#### d. What can you conclude from your plot from part (c)?\n",
    "We can see that as the number of dimensions increase, the average of euclidean norms moves further away from 0 and grows larger. This illustrates the idea that Gaussian Distributions are like soap bubbles in high dimensions, the average of the norms are no longer concentrated in the center. "
   ]
  },
  {
   "cell_type": "markdown",
   "metadata": {},
   "source": [
    "**4. (10 points) Here, we numerically verify the Johnson-Lindenstrauss Lemma. Recall its statement: for any set of n points in d dimensions, there exists a matrix with merely $m = 4(log n)/ε^2$ rows such that:**  \n",
    "$(1−ε)\\lVert u-v \\rVert_{2}^2 \\leqslant \\lVert A(u-v) \\rVert_{2}^2 \\leqslant (1+ε)\\lVert u-v \\rVert_{2}^2 $.  \n",
    "**In particular, m is independent of d. Moreover, A can be constructed by choosing m × d i.i.d.\n",
    "entries from a zero mean Gaussian with variance 1/m.**  \n",
    "> a. Fix any data matrix X of your choice with parameters n = 10, d = 5000. (For example, this could be any n columns of the identity matrix.) Fix ε = 0.1 and calculate the embedding dimension m using the formula above.  \n",
    "> b. Construct a random projection matrix A of size m × d.  \n",
    "> c. Compare all pairwise (squared) Euclidean distances ∥u − v∥2 with the distances between the projections ∥A(u − v)∥2 . Does the Lemma hold? (i.e., for every pair of data points, is the projection distance within 10% of the original distance?)  \n",
    "> d. Play around with m to determine the smallest value of the embedding dimension for which the Lemma holds, and report your answer.  "
   ]
  },
  {
   "cell_type": "markdown",
   "metadata": {},
   "source": [
    "a. Fix any data matrix X of your choice with parameters n = 10, d = 5000. (For example, this could be any n columns of the identity matrix.) Fix ε = 0.1 and calculate the embedding dimension m using the formula above.  "
   ]
  },
  {
   "cell_type": "code",
   "execution_count": 158,
   "metadata": {},
   "outputs": [
    {
     "name": "stdout",
     "output_type": "stream",
     "text": [
      "value of m is:  921.0340371976182\n"
     ]
    }
   ],
   "source": [
    "n = 10\n",
    "d = 5000\n",
    "m = (4 * math.log(n))/(0.1**2)\n",
    "X = np.random.randn(n, d)\n",
    "print(\"value of m is: \", m)"
   ]
  },
  {
   "cell_type": "markdown",
   "metadata": {},
   "source": [
    "b. Construct a random projection matrix A of size m × d."
   ]
  },
  {
   "cell_type": "code",
   "execution_count": 159,
   "metadata": {},
   "outputs": [
    {
     "data": {
      "text/plain": [
       "array([[-0.00112321, -0.0362627 , -0.01703272, ..., -0.04251281,\n",
       "         0.02030766, -0.02251373],\n",
       "       [-0.02318847,  0.02149767,  0.02266558, ...,  0.04585085,\n",
       "         0.02426891, -0.00599911]])"
      ]
     },
     "execution_count": 159,
     "metadata": {},
     "output_type": "execute_result"
    }
   ],
   "source": [
    "A = np.random.randn(math.ceil(m), d)\n",
    "A = A/(m**0.5)\n",
    "A[:2]"
   ]
  },
  {
   "cell_type": "markdown",
   "metadata": {},
   "source": [
    "c. Compare all pairwise (squared) Euclidean distances ∥u − v∥2 with the distances between the projections ∥A(u − v)∥2 . Does the Lemma hold? (i.e., for every pair of data points, is the projection distance within 10% of the original distance?)"
   ]
  },
  {
   "cell_type": "code",
   "execution_count": 160,
   "metadata": {
    "collapsed": true
   },
   "outputs": [],
   "source": [
    "from sklearn.metrics.pairwise import euclidean_distances as ed\n",
    "dists_X = ed(X)\n",
    "\n",
    "#create new matrix of X*A.transpose and compute euclidean distances of these\n",
    "new_matrix = X.dot(A.transpose())\n",
    "dists_new_matrix = ed(new_matrix)"
   ]
  },
  {
   "cell_type": "code",
   "execution_count": 161,
   "metadata": {},
   "outputs": [
    {
     "data": {
      "text/plain": [
       "array([[   0.        ,   98.90648353,  101.98422725,  101.92009957,\n",
       "          98.12605253,  102.78806267,   96.22347824,  101.14255838,\n",
       "         101.28973728,  101.8768736 ],\n",
       "       [  98.90648353,    0.        ,   97.25503082,  101.81097309,\n",
       "          96.71334162,   99.46994287,   98.65286913,  101.46853117,\n",
       "         101.5938326 ,  101.1164713 ]])"
      ]
     },
     "execution_count": 161,
     "metadata": {},
     "output_type": "execute_result"
    }
   ],
   "source": [
    "dists_new_matrix[:2]"
   ]
  },
  {
   "cell_type": "code",
   "execution_count": 162,
   "metadata": {},
   "outputs": [
    {
     "name": "stdout",
     "output_type": "stream",
     "text": [
      "0\n"
     ]
    }
   ],
   "source": [
    "# Does the Lemma hold? \n",
    "#let's compute (dists_X - dists_new_matrix)/dists_X to check if within .1\n",
    "divide_matrix = ((dists_new_matrix- dists_X)/ dists_X) *100\n",
    "divide_matrix[np.isnan(divide_matrix)] = 0\n",
    "\n",
    "#for easy evalutation let's get the absolute values of the matrix, and count\n",
    "#how many values are greater than 10%\n",
    "abs_m = np.absolute(divide_matrix)\n",
    "print(np.sum(abs_m>10))"
   ]
  },
  {
   "cell_type": "code",
   "execution_count": 163,
   "metadata": {},
   "outputs": [
    {
     "data": {
      "text/plain": [
       "array([[ 0.        , -0.60106921,  0.48903246,  0.54296564, -2.11543528,\n",
       "         0.14790726, -3.27100153,  1.06684285, -0.792059  ,  2.67079587],\n",
       "       [-0.60106921,  0.        , -3.27568997,  1.11476372, -1.46823033,\n",
       "        -1.05389924, -1.03351088,  1.70752608,  0.7685557 ,  1.97968722],\n",
       "       [ 0.48903246, -3.27568997,  0.        ,  0.60359183,  0.17000167,\n",
       "        -0.24170193,  0.52003985, -2.74135989,  0.28010676,  2.01605908],\n",
       "       [ 0.54296564,  1.11476372,  0.60359183,  0.        ,  1.18255976,\n",
       "        -0.69169765, -1.72154492,  1.40149179,  2.61696658,  5.06568614],\n",
       "       [-2.11543528, -1.46823033,  0.17000167,  1.18255976,  0.        ,\n",
       "        -2.7816154 , -2.11118462,  3.05336591,  0.90409221,  1.15520219],\n",
       "       [ 0.14790726, -1.05389924, -0.24170193, -0.69169765, -2.7816154 ,\n",
       "         0.        , -0.20780677, -0.38199016,  0.06759918, -2.41393067],\n",
       "       [-3.27100153, -1.03351088,  0.52003985, -1.72154492, -2.11118462,\n",
       "        -0.20780677,  0.        , -1.78271592, -5.04426211,  0.73628705],\n",
       "       [ 1.06684285,  1.70752608, -2.74135989,  1.40149179,  3.05336591,\n",
       "        -0.38199016, -1.78271592,  0.        , -2.62481287,  3.41102338],\n",
       "       [-0.792059  ,  0.7685557 ,  0.28010676,  2.61696658,  0.90409221,\n",
       "         0.06759918, -5.04426211, -2.62481287,  0.        , -1.73576272],\n",
       "       [ 2.67079587,  1.97968722,  2.01605908,  5.06568614,  1.15520219,\n",
       "        -2.41393067,  0.73628705,  3.41102338, -1.73576272,  0.        ]])"
      ]
     },
     "execution_count": 163,
     "metadata": {},
     "output_type": "execute_result"
    }
   ],
   "source": [
    "divide_matrix"
   ]
  },
  {
   "cell_type": "markdown",
   "metadata": {},
   "source": [
    "From looking at the count we can see that the points are all within 10% of each other."
   ]
  },
  {
   "cell_type": "markdown",
   "metadata": {},
   "source": [
    "d. Play around with m to determine the smallest value of the embedding dimension for which the Lemma holds, and report your answer."
   ]
  },
  {
   "cell_type": "code",
   "execution_count": 91,
   "metadata": {
    "collapsed": true
   },
   "outputs": [],
   "source": [
    "m_list = []\n",
    "for m in range(1,5000):\n",
    "    #m = (4 * math.log(n))/(0.1**2)\n",
    "    A = np.random.randn(math.ceil(m), d)\n",
    "    A = A/(m**0.5)\n",
    "    #create new matrix of X*A.transpose and compute euclidean distances of these\n",
    "    new_matrix = np.dot(X,A.transpose())\n",
    "    dists_new_matrix = ed(new_matrix)\n",
    "    #let's compute (dists_X - dists_new_matrix)/dists_X to check if within .1\n",
    "    divide_matrix = ((dists_new_matrix - dists_X)/ dists_X) *100\n",
    "    divide_matrix[np.isnan(divide_matrix)] = 0\n",
    "    abs_m = np.absolute(divide_matrix)\n",
    "    if np.all(abs_m < 10):\n",
    "        #print(\"m is: \", m)\n",
    "        m_list.append(m)"
   ]
  },
  {
   "cell_type": "markdown",
   "metadata": {},
   "source": [
    "Running the simulation multiple times I got many values between 922 and 5000 that worked. The lowest m I got to work was in the 130s and there were also ms between 130 and 922 that had points all within 10%. However, it was the values greater than 922 that consistently would create points that were all within 10% of the original. The ms between 1 and 922 could not consistently generate values within 10% everytime I ran the program with them. That is, half the time I would use m=135 it would say the points were all within 10%, but the other half of the time it wouldn't. Thus, I would say the lowest m I could generate more consistenly was around 1000."
   ]
  },
  {
   "cell_type": "markdown",
   "metadata": {},
   "source": [
    "**5. (20 points) The goal of this problem is to implement a very simple text retrieval system. Given (as input) a database of documents as well as a query document (all provided in an attached .zip file), write a program, in a language of your choice, to find the document in the database that is the best match to the query. Specifically:**  \n",
    "> a. Write a small parser to read each document and convert it into a vector of words.  \n",
    "> b. Compute tf-idf values for each word in every document as well as the query.  \n",
    "> c. Compute the cosine similarity between tf-idf vectors of each document and the query.    \n",
    "> d. Report the document with the maximum similarity value."
   ]
  },
  {
   "cell_type": "markdown",
   "metadata": {},
   "source": [
    "#### a. Write a small parser to read each document and convert it into a vector of words."
   ]
  },
  {
   "cell_type": "code",
   "execution_count": 18,
   "metadata": {
    "collapsed": true
   },
   "outputs": [],
   "source": [
    "import numpy as np\n",
    "import pandas as pd\n",
    "from sklearn.feature_extraction.text import CountVectorizer\n",
    "import nltk\n",
    "from nltk.corpus import PlaintextCorpusReader\n",
    "import math"
   ]
  },
  {
   "cell_type": "code",
   "execution_count": 19,
   "metadata": {
    "collapsed": true
   },
   "outputs": [],
   "source": [
    "# Use NLTK Corpus to make a term document matrix\n",
    "def create_term_doc_matrix(xCorpus):\n",
    "    freq_arr = []\n",
    "    for x in range(0, len(xCorpus.fileids())):\n",
    "        freq_arr.append(nltk.FreqDist(xCorpus.words(xCorpus.fileids()[x])))\n",
    "    matrix = pd.DataFrame(freq_arr, index=xCorpus.fileids())\n",
    "    matrix.fillna(0,inplace=True)\n",
    "    return matrix.T"
   ]
  },
  {
   "cell_type": "code",
   "execution_count": 20,
   "metadata": {
    "collapsed": true
   },
   "outputs": [],
   "source": [
    "file_path = '../hw1'\n",
    "corpus = PlaintextCorpusReader(file_path, '.*')\n",
    "term_doc_matrix = create_term_doc_matrix(corpus)"
   ]
  },
  {
   "cell_type": "code",
   "execution_count": 21,
   "metadata": {},
   "outputs": [
    {
     "data": {
      "text/html": [
       "<div>\n",
       "<style>\n",
       "    .dataframe thead tr:only-child th {\n",
       "        text-align: right;\n",
       "    }\n",
       "\n",
       "    .dataframe thead th {\n",
       "        text-align: left;\n",
       "    }\n",
       "\n",
       "    .dataframe tbody tr th {\n",
       "        vertical-align: top;\n",
       "    }\n",
       "</style>\n",
       "<table border=\"1\" class=\"dataframe\">\n",
       "  <thead>\n",
       "    <tr style=\"text-align: right;\">\n",
       "      <th></th>\n",
       "      <th>d1.txt</th>\n",
       "      <th>d2.txt</th>\n",
       "      <th>d3.txt</th>\n",
       "      <th>d4.txt</th>\n",
       "      <th>d5.txt</th>\n",
       "      <th>d_query.txt</th>\n",
       "    </tr>\n",
       "  </thead>\n",
       "  <tbody>\n",
       "    <tr>\n",
       "      <th>write</th>\n",
       "      <td>0.0</td>\n",
       "      <td>0.0</td>\n",
       "      <td>0.0</td>\n",
       "      <td>0.0</td>\n",
       "      <td>1.0</td>\n",
       "      <td>0.0</td>\n",
       "    </tr>\n",
       "    <tr>\n",
       "      <th>yards</th>\n",
       "      <td>0.0</td>\n",
       "      <td>0.0</td>\n",
       "      <td>1.0</td>\n",
       "      <td>0.0</td>\n",
       "      <td>0.0</td>\n",
       "      <td>0.0</td>\n",
       "    </tr>\n",
       "    <tr>\n",
       "      <th>years</th>\n",
       "      <td>0.0</td>\n",
       "      <td>0.0</td>\n",
       "      <td>0.0</td>\n",
       "      <td>1.0</td>\n",
       "      <td>0.0</td>\n",
       "      <td>0.0</td>\n",
       "    </tr>\n",
       "    <tr>\n",
       "      <th>zone</th>\n",
       "      <td>0.0</td>\n",
       "      <td>1.0</td>\n",
       "      <td>0.0</td>\n",
       "      <td>0.0</td>\n",
       "      <td>0.0</td>\n",
       "      <td>0.0</td>\n",
       "    </tr>\n",
       "    <tr>\n",
       "      <th>–</th>\n",
       "      <td>1.0</td>\n",
       "      <td>1.0</td>\n",
       "      <td>0.0</td>\n",
       "      <td>0.0</td>\n",
       "      <td>0.0</td>\n",
       "      <td>0.0</td>\n",
       "    </tr>\n",
       "  </tbody>\n",
       "</table>\n",
       "</div>"
      ],
      "text/plain": [
       "       d1.txt  d2.txt  d3.txt  d4.txt  d5.txt  d_query.txt\n",
       "write     0.0     0.0     0.0     0.0     1.0          0.0\n",
       "yards     0.0     0.0     1.0     0.0     0.0          0.0\n",
       "years     0.0     0.0     0.0     1.0     0.0          0.0\n",
       "zone      0.0     1.0     0.0     0.0     0.0          0.0\n",
       "–         1.0     1.0     0.0     0.0     0.0          0.0"
      ]
     },
     "execution_count": 21,
     "metadata": {},
     "output_type": "execute_result"
    }
   ],
   "source": [
    "term_doc_matrix.tail()"
   ]
  },
  {
   "cell_type": "markdown",
   "metadata": {},
   "source": [
    "#### b. Compute tf-idf values for each word in every document as well as the query.\n",
    "We know that $$x_i(j) =tf_i(j)·idf(j) $$\n",
    "tf_i(j) represents term-frequency and counts the number of occurrences of word j in document i.  \n",
    "We already have tf_i(j) values from our term_doc_matrix, we need to compute idf(j) for all i,j \n",
    "We know that $$x_i(j) = tf_i(j)·idf(j)$$  \n",
    "tf_i(j) represents term-frequency and counts the number of occurrences of word j in document i.\n",
    "We already have tf_i(j) values from our term_doc_matrix, we need to compute idf(j) for all i,j $$idf(j) = log(n_j/n)^{−1}= log(n/n_j)$$"
   ]
  },
  {
   "cell_type": "code",
   "execution_count": 22,
   "metadata": {
    "collapsed": true
   },
   "outputs": [],
   "source": [
    "# we include the query doc in the total numer of docs\n",
    "num_docs = 6\n",
    "# add nj values as new column to term_doc_matrix\n",
    "term_doc_matrix['n_j'] = (term_doc_matrix > 0.0).sum(1)"
   ]
  },
  {
   "cell_type": "code",
   "execution_count": 23,
   "metadata": {},
   "outputs": [
    {
     "data": {
      "text/html": [
       "<div>\n",
       "<style>\n",
       "    .dataframe thead tr:only-child th {\n",
       "        text-align: right;\n",
       "    }\n",
       "\n",
       "    .dataframe thead th {\n",
       "        text-align: left;\n",
       "    }\n",
       "\n",
       "    .dataframe tbody tr th {\n",
       "        vertical-align: top;\n",
       "    }\n",
       "</style>\n",
       "<table border=\"1\" class=\"dataframe\">\n",
       "  <thead>\n",
       "    <tr style=\"text-align: right;\">\n",
       "      <th></th>\n",
       "      <th>d1.txt</th>\n",
       "      <th>d2.txt</th>\n",
       "      <th>d3.txt</th>\n",
       "      <th>d4.txt</th>\n",
       "      <th>d5.txt</th>\n",
       "      <th>d_query.txt</th>\n",
       "      <th>n_j</th>\n",
       "    </tr>\n",
       "  </thead>\n",
       "  <tbody>\n",
       "    <tr>\n",
       "      <th>write</th>\n",
       "      <td>0.0</td>\n",
       "      <td>0.0</td>\n",
       "      <td>0.0</td>\n",
       "      <td>0.0</td>\n",
       "      <td>1.0</td>\n",
       "      <td>0.0</td>\n",
       "      <td>1</td>\n",
       "    </tr>\n",
       "    <tr>\n",
       "      <th>yards</th>\n",
       "      <td>0.0</td>\n",
       "      <td>0.0</td>\n",
       "      <td>1.0</td>\n",
       "      <td>0.0</td>\n",
       "      <td>0.0</td>\n",
       "      <td>0.0</td>\n",
       "      <td>1</td>\n",
       "    </tr>\n",
       "    <tr>\n",
       "      <th>years</th>\n",
       "      <td>0.0</td>\n",
       "      <td>0.0</td>\n",
       "      <td>0.0</td>\n",
       "      <td>1.0</td>\n",
       "      <td>0.0</td>\n",
       "      <td>0.0</td>\n",
       "      <td>1</td>\n",
       "    </tr>\n",
       "    <tr>\n",
       "      <th>zone</th>\n",
       "      <td>0.0</td>\n",
       "      <td>1.0</td>\n",
       "      <td>0.0</td>\n",
       "      <td>0.0</td>\n",
       "      <td>0.0</td>\n",
       "      <td>0.0</td>\n",
       "      <td>1</td>\n",
       "    </tr>\n",
       "    <tr>\n",
       "      <th>–</th>\n",
       "      <td>1.0</td>\n",
       "      <td>1.0</td>\n",
       "      <td>0.0</td>\n",
       "      <td>0.0</td>\n",
       "      <td>0.0</td>\n",
       "      <td>0.0</td>\n",
       "      <td>2</td>\n",
       "    </tr>\n",
       "  </tbody>\n",
       "</table>\n",
       "</div>"
      ],
      "text/plain": [
       "       d1.txt  d2.txt  d3.txt  d4.txt  d5.txt  d_query.txt  n_j\n",
       "write     0.0     0.0     0.0     0.0     1.0          0.0    1\n",
       "yards     0.0     0.0     1.0     0.0     0.0          0.0    1\n",
       "years     0.0     0.0     0.0     1.0     0.0          0.0    1\n",
       "zone      0.0     1.0     0.0     0.0     0.0          0.0    1\n",
       "–         1.0     1.0     0.0     0.0     0.0          0.0    2"
      ]
     },
     "execution_count": 23,
     "metadata": {},
     "output_type": "execute_result"
    }
   ],
   "source": [
    "term_doc_matrix.tail()"
   ]
  },
  {
   "cell_type": "code",
   "execution_count": 24,
   "metadata": {
    "collapsed": true
   },
   "outputs": [],
   "source": [
    "idf_j = np.log10(num_docs/term_doc_matrix['n_j'].values)"
   ]
  },
  {
   "cell_type": "code",
   "execution_count": 25,
   "metadata": {
    "collapsed": true
   },
   "outputs": [],
   "source": [
    "term_doc_matrix['idf_j'] = idf_j"
   ]
  },
  {
   "cell_type": "code",
   "execution_count": 26,
   "metadata": {},
   "outputs": [
    {
     "data": {
      "text/html": [
       "<div>\n",
       "<style>\n",
       "    .dataframe thead tr:only-child th {\n",
       "        text-align: right;\n",
       "    }\n",
       "\n",
       "    .dataframe thead th {\n",
       "        text-align: left;\n",
       "    }\n",
       "\n",
       "    .dataframe tbody tr th {\n",
       "        vertical-align: top;\n",
       "    }\n",
       "</style>\n",
       "<table border=\"1\" class=\"dataframe\">\n",
       "  <thead>\n",
       "    <tr style=\"text-align: right;\">\n",
       "      <th></th>\n",
       "      <th>d1.txt</th>\n",
       "      <th>d2.txt</th>\n",
       "      <th>d3.txt</th>\n",
       "      <th>d4.txt</th>\n",
       "      <th>d5.txt</th>\n",
       "      <th>d_query.txt</th>\n",
       "      <th>n_j</th>\n",
       "      <th>idf_j</th>\n",
       "    </tr>\n",
       "  </thead>\n",
       "  <tbody>\n",
       "    <tr>\n",
       "      <th>write</th>\n",
       "      <td>0.0</td>\n",
       "      <td>0.0</td>\n",
       "      <td>0.0</td>\n",
       "      <td>0.0</td>\n",
       "      <td>1.0</td>\n",
       "      <td>0.0</td>\n",
       "      <td>1</td>\n",
       "      <td>0.778151</td>\n",
       "    </tr>\n",
       "    <tr>\n",
       "      <th>yards</th>\n",
       "      <td>0.0</td>\n",
       "      <td>0.0</td>\n",
       "      <td>1.0</td>\n",
       "      <td>0.0</td>\n",
       "      <td>0.0</td>\n",
       "      <td>0.0</td>\n",
       "      <td>1</td>\n",
       "      <td>0.778151</td>\n",
       "    </tr>\n",
       "    <tr>\n",
       "      <th>years</th>\n",
       "      <td>0.0</td>\n",
       "      <td>0.0</td>\n",
       "      <td>0.0</td>\n",
       "      <td>1.0</td>\n",
       "      <td>0.0</td>\n",
       "      <td>0.0</td>\n",
       "      <td>1</td>\n",
       "      <td>0.778151</td>\n",
       "    </tr>\n",
       "    <tr>\n",
       "      <th>zone</th>\n",
       "      <td>0.0</td>\n",
       "      <td>1.0</td>\n",
       "      <td>0.0</td>\n",
       "      <td>0.0</td>\n",
       "      <td>0.0</td>\n",
       "      <td>0.0</td>\n",
       "      <td>1</td>\n",
       "      <td>0.778151</td>\n",
       "    </tr>\n",
       "    <tr>\n",
       "      <th>–</th>\n",
       "      <td>1.0</td>\n",
       "      <td>1.0</td>\n",
       "      <td>0.0</td>\n",
       "      <td>0.0</td>\n",
       "      <td>0.0</td>\n",
       "      <td>0.0</td>\n",
       "      <td>2</td>\n",
       "      <td>0.477121</td>\n",
       "    </tr>\n",
       "  </tbody>\n",
       "</table>\n",
       "</div>"
      ],
      "text/plain": [
       "       d1.txt  d2.txt  d3.txt  d4.txt  d5.txt  d_query.txt  n_j     idf_j\n",
       "write     0.0     0.0     0.0     0.0     1.0          0.0    1  0.778151\n",
       "yards     0.0     0.0     1.0     0.0     0.0          0.0    1  0.778151\n",
       "years     0.0     0.0     0.0     1.0     0.0          0.0    1  0.778151\n",
       "zone      0.0     1.0     0.0     0.0     0.0          0.0    1  0.778151\n",
       "–         1.0     1.0     0.0     0.0     0.0          0.0    2  0.477121"
      ]
     },
     "execution_count": 26,
     "metadata": {},
     "output_type": "execute_result"
    }
   ],
   "source": [
    "term_doc_matrix.tail()"
   ]
  },
  {
   "cell_type": "code",
   "execution_count": 27,
   "metadata": {
    "collapsed": true
   },
   "outputs": [],
   "source": [
    "final_df = pd.DataFrame()"
   ]
  },
  {
   "cell_type": "code",
   "execution_count": 28,
   "metadata": {
    "collapsed": true
   },
   "outputs": [],
   "source": [
    "# x_i(j)=tf_i(j)·idf(j)\n",
    "final_df['d1'] = term_doc_matrix['d1.txt'] *term_doc_matrix['idf_j']\n",
    "final_df['d2'] = term_doc_matrix['d2.txt'] *term_doc_matrix['idf_j']\n",
    "final_df['d3'] = term_doc_matrix['d3.txt'] *term_doc_matrix['idf_j']\n",
    "final_df['d4'] = term_doc_matrix['d4.txt'] *term_doc_matrix['idf_j']\n",
    "final_df['d5'] = term_doc_matrix['d5.txt'] *term_doc_matrix['idf_j']\n",
    "final_df['query'] = term_doc_matrix['d_query.txt'] *term_doc_matrix['idf_j']"
   ]
  },
  {
   "cell_type": "code",
   "execution_count": 29,
   "metadata": {},
   "outputs": [
    {
     "data": {
      "text/html": [
       "<div>\n",
       "<style>\n",
       "    .dataframe thead tr:only-child th {\n",
       "        text-align: right;\n",
       "    }\n",
       "\n",
       "    .dataframe thead th {\n",
       "        text-align: left;\n",
       "    }\n",
       "\n",
       "    .dataframe tbody tr th {\n",
       "        vertical-align: top;\n",
       "    }\n",
       "</style>\n",
       "<table border=\"1\" class=\"dataframe\">\n",
       "  <thead>\n",
       "    <tr style=\"text-align: right;\">\n",
       "      <th></th>\n",
       "      <th>d1</th>\n",
       "      <th>d2</th>\n",
       "      <th>d3</th>\n",
       "      <th>d4</th>\n",
       "      <th>d5</th>\n",
       "      <th>query</th>\n",
       "    </tr>\n",
       "  </thead>\n",
       "  <tbody>\n",
       "    <tr>\n",
       "      <th>write</th>\n",
       "      <td>0.000000</td>\n",
       "      <td>0.000000</td>\n",
       "      <td>0.000000</td>\n",
       "      <td>0.000000</td>\n",
       "      <td>0.778151</td>\n",
       "      <td>0.0</td>\n",
       "    </tr>\n",
       "    <tr>\n",
       "      <th>yards</th>\n",
       "      <td>0.000000</td>\n",
       "      <td>0.000000</td>\n",
       "      <td>0.778151</td>\n",
       "      <td>0.000000</td>\n",
       "      <td>0.000000</td>\n",
       "      <td>0.0</td>\n",
       "    </tr>\n",
       "    <tr>\n",
       "      <th>years</th>\n",
       "      <td>0.000000</td>\n",
       "      <td>0.000000</td>\n",
       "      <td>0.000000</td>\n",
       "      <td>0.778151</td>\n",
       "      <td>0.000000</td>\n",
       "      <td>0.0</td>\n",
       "    </tr>\n",
       "    <tr>\n",
       "      <th>zone</th>\n",
       "      <td>0.000000</td>\n",
       "      <td>0.778151</td>\n",
       "      <td>0.000000</td>\n",
       "      <td>0.000000</td>\n",
       "      <td>0.000000</td>\n",
       "      <td>0.0</td>\n",
       "    </tr>\n",
       "    <tr>\n",
       "      <th>–</th>\n",
       "      <td>0.477121</td>\n",
       "      <td>0.477121</td>\n",
       "      <td>0.000000</td>\n",
       "      <td>0.000000</td>\n",
       "      <td>0.000000</td>\n",
       "      <td>0.0</td>\n",
       "    </tr>\n",
       "  </tbody>\n",
       "</table>\n",
       "</div>"
      ],
      "text/plain": [
       "             d1        d2        d3        d4        d5  query\n",
       "write  0.000000  0.000000  0.000000  0.000000  0.778151    0.0\n",
       "yards  0.000000  0.000000  0.778151  0.000000  0.000000    0.0\n",
       "years  0.000000  0.000000  0.000000  0.778151  0.000000    0.0\n",
       "zone   0.000000  0.778151  0.000000  0.000000  0.000000    0.0\n",
       "–      0.477121  0.477121  0.000000  0.000000  0.000000    0.0"
      ]
     },
     "execution_count": 29,
     "metadata": {},
     "output_type": "execute_result"
    }
   ],
   "source": [
    "final_df.tail()"
   ]
  },
  {
   "cell_type": "markdown",
   "metadata": {},
   "source": [
    "#### c. Compute the cosine similarity between tf-idf vectors of each document and the query."
   ]
  },
  {
   "cell_type": "code",
   "execution_count": 30,
   "metadata": {},
   "outputs": [
    {
     "name": "stdout",
     "output_type": "stream",
     "text": [
      "similarity of doc1 and query:  0.0\n",
      "similarity of doc2 and query:  0.0\n",
      "similarity of doc3 and query:  0.0\n",
      "similarity of doc4 and query:  0.146447686867\n",
      "similarity of doc5 and query:  0.0\n"
     ]
    }
   ],
   "source": [
    "from sklearn.metrics.pairwise import cosine_similarity\n",
    "from scipy.spatial.distance import cosine\n",
    "\n",
    "# cosine similarity of documents and query\n",
    "print(\"similarity of doc1 and query: \", (1- cosine(final_df['d1'], final_df['query'])))\n",
    "print(\"similarity of doc2 and query: \", (1- cosine(final_df['d2'], final_df['query'])))\n",
    "print(\"similarity of doc3 and query: \", (1- cosine(final_df['d3'], final_df['query'])))\n",
    "print(\"similarity of doc4 and query: \", (1- cosine(final_df['d4'], final_df['query'])))\n",
    "print(\"similarity of doc5 and query: \", (1- cosine(final_df['d5'], final_df['query'])))"
   ]
  },
  {
   "cell_type": "markdown",
   "metadata": {},
   "source": [
    "#### d. Report the document with the maximum similarity value.  \n",
    "Based on the similarity scores this would be Document 4 (d4.txt)"
   ]
  }
 ],
 "metadata": {
  "kernelspec": {
   "display_name": "Python 3",
   "language": "python",
   "name": "python3"
  },
  "language_info": {
   "codemirror_mode": {
    "name": "ipython",
    "version": 3
   },
   "file_extension": ".py",
   "mimetype": "text/x-python",
   "name": "python",
   "nbconvert_exporter": "python",
   "pygments_lexer": "ipython3",
   "version": "3.6.3"
  }
 },
 "nbformat": 4,
 "nbformat_minor": 2
}
